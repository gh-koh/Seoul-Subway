{
 "cells": [
  {
   "cell_type": "markdown",
   "id": "0da474bb",
   "metadata": {},
   "source": [
    "To do & possible extensions:\n",
    " - Clean up preprocessing & data cleaning steps as they're a mess\n",
    " - Implement interactive map so that user can select specific year/month/hour\n",
    " - ML to predict future traffic\n",
    " - Utilize API to automatically scrape traffic data for future instead of reading from csv file\n",
    " - Get accurate daily average for each month instead of merely dividing by 30\n",
    " - English translations for lines, stations (scrape from OSM?) (nvm, there is an English version of the map in the site...)\n",
    " - Analyze data using graph-theoretic functions as only constructed graph in Networkx, turned out visualization didn't need Networkx"
   ]
  },
  {
   "cell_type": "code",
   "execution_count": 1,
   "id": "8178ca26",
   "metadata": {},
   "outputs": [],
   "source": [
    "# import packages\n",
    "\n",
    "import requests\n",
    "import json\n",
    "import re\n",
    "import pandas as pd\n",
    "from selenium.webdriver import Firefox\n",
    "from selenium.webdriver.firefox.options import Options\n",
    "import lxml.html\n",
    "import networkx as nx\n",
    "import numpy as np\n",
    "import matplotlib.pyplot as plt\n",
    "import itertools\n",
    "import plotly.graph_objects as go\n",
    "import plotly.express as px"
   ]
  },
  {
   "cell_type": "code",
   "execution_count": 2,
   "id": "aacd7a96",
   "metadata": {},
   "outputs": [],
   "source": [
    "# load data from Seoul Data, beware of encoding\n",
    "# subway_data contains data on stations\n",
    "# traffic_data contains data on hourly traffic\n",
    "\n",
    "with open('서울시 역사마스터 정보.json', encoding = 'utf-8-sig') as file:\n",
    "    station_data = json.load(file)\n",
    "\n",
    "with open('서울시 지하철 호선별 역별 시간대별 승하차 인원 정보.json', encoding = 'utf-8-sig') as file:\n",
    "    traffic_data = json.load(file)"
   ]
  },
  {
   "cell_type": "code",
   "execution_count": 3,
   "id": "fb9672a9",
   "metadata": {},
   "outputs": [],
   "source": [
    "# turn subway data, traffic_df into Pandas DataFrames\n",
    "\n",
    "station_df = pd.DataFrame(station_data['DATA'])\n",
    "\n",
    "traffic_df = pd.DataFrame(traffic_data['DATA'])"
   ]
  },
  {
   "cell_type": "code",
   "execution_count": 4,
   "id": "410b5795",
   "metadata": {},
   "outputs": [],
   "source": [
    "# Column in form 'hr_n_get_off_nope' represent total # of people for each month getting off from hr_n to hr_n+1, same for 'hr_n_get_on_nope'\n",
    "# 'sttn' represents station name\n",
    "# 'use_mm' represents timeframe for data (yr-mm ie 202503)\n",
    "# 'sbwy_rout_ln_nm' represents line connected to the station (for stations connected to more than one line, only one shown)\n",
    "\n",
    "# 'job_ymd' represents date data posted, so remove\n",
    "\n",
    "traffic_df = traffic_df.drop(['job_ymd'], axis = 1, errors = 'ignore')\n",
    "\n",
    "# as trains generally run from around 05:00 to 00:30, remove data for 01:00 ~ 05:00\n",
    "\n",
    "remove_timeframes = [f'hr_{i}_get_off_nope' for i in range(1, 5)]\n",
    "remove_timeframes.extend([f'hr_{i}_get_on_nope' for i in range(1, 5)])\n",
    "traffic_df = traffic_df.drop(remove_timeframes, axis = 1)\n",
    "\n",
    "# rename columns\n",
    "\n",
    "traffic_df_rename_cols = list(traffic_df.columns)\n",
    "traffic_df_rename_cols.remove('use_mm')\n",
    "traffic_df_rename_cols.remove('sttn')\n",
    "traffic_df_rename_cols.remove('sbwy_rout_ln_nm')\n",
    "traffic_df_rename_cols_dict = dict()\n",
    "for col_name in traffic_df_rename_cols:\n",
    "    traffic_df_rename_cols_dict[col_name] = re.sub(pattern = r'hr_(\\d+)_get_(off|on)_nope', repl = r'\\1_\\2',string = col_name)\n",
    "\n",
    "traffic_df = traffic_df.rename(columns = traffic_df_rename_cols_dict)"
   ]
  },
  {
   "cell_type": "code",
   "execution_count": 5,
   "id": "46317541",
   "metadata": {},
   "outputs": [],
   "source": [
    "# want to fit, clean subway lines to map shown here: http://www.seoulmetro.co.kr/kr/cyberStation.do\n",
    "\n",
    "traffic_df['sbwy_rout_ln_nm'] = traffic_df['sbwy_rout_ln_nm'].replace({'9호선2단계': '9호선', '9호선2~3단계': '9호선', '경의선': '경의중앙선', '중앙선': '경의중앙선', '과천선': '4호선', '경부선': '1호선', '경원선': '1호선', '경인선': '1호선', '장항선': '1호선', '수인선': '수인분당선', '분당선': '수인분당선', '안산선': '4호선', '일산선': '3호선', '공항철도 1호선': '공항철도1호선'})"
   ]
  },
  {
   "cell_type": "code",
   "execution_count": 6,
   "id": "60269681",
   "metadata": {},
   "outputs": [],
   "source": [
    "# save relevant lines for later use\n",
    "\n",
    "relevant_lines = traffic_df['sbwy_rout_ln_nm'].unique()"
   ]
  },
  {
   "cell_type": "code",
   "execution_count": 7,
   "id": "32a719e8",
   "metadata": {},
   "outputs": [],
   "source": [
    "# notice transfer stations represented multiple times in station_df, per each connected line\n",
    "# clean route column, eliminate irrelevant rows (stations)\n",
    "\n",
    "station_df['route'] = station_df['route'].replace({'9호선(연장)': '9호선', '진접선': '4호선', '7호선(인천)': '7호선', '별내선': '8호선', '경의선': '경의중앙선', '중앙선': '경의중앙선', '과천선': '4호선', '경부선': '1호선', '경원선': '1호선', '경인선': '1호선', '장항선': '1호선', '수인선': '수인분당선', '분당선': '수인분당선', '안산선': '4호선', '일산선': '3호선'})\n",
    "\n",
    "station_df = station_df[station_df['route'].isin(relevant_lines)]\n",
    "\n",
    "# change coordinate data into numeric\n",
    "\n",
    "station_df[['lot', 'lat']] = station_df[['lot', 'lat']].astype(float)"
   ]
  },
  {
   "cell_type": "code",
   "execution_count": 8,
   "id": "66e69ec7",
   "metadata": {},
   "outputs": [],
   "source": [
    "# scrape data from http://www.seoulmetro.co.kr/kr/cyberStation.do\n",
    "\n",
    "opts = Options()\n",
    "opts.add_argument('--headless')\n",
    "\n",
    "browser = Firefox(options = opts)\n",
    "browser.get('http://www.seoulmetro.co.kr/kr/cyberStation.do')\n",
    "\n",
    "html = browser.page_source\n",
    "\n",
    "tree = lxml.html.fromstring(html)"
   ]
  },
  {
   "cell_type": "code",
   "execution_count": 9,
   "id": "6b1edc46",
   "metadata": {},
   "outputs": [],
   "source": [
    "# from inspecting elements in page, find subway map is div element with class name = subway-map\n",
    "\n",
    "subway_map = tree.xpath('//div[@class = \"subway-map\"]')[0]"
   ]
  },
  {
   "cell_type": "code",
   "execution_count": 10,
   "id": "a706ec77",
   "metadata": {},
   "outputs": [],
   "source": [
    "# find stations (nodes) info contained in g elements with class = label-group\n",
    "\n",
    "sttn_elements = subway_map.xpath('//g[@class = \"label-group\"]')[0]"
   ]
  },
  {
   "cell_type": "code",
   "execution_count": 11,
   "id": "1cda9e73",
   "metadata": {},
   "outputs": [],
   "source": [
    "# notice station ids have S appended in front (eg S0339), likewise line ids have L appended in front (eg L4-3)\n",
    "# text id has station id (eg S0339), class attribute contains list of associated station and line ids (eg S0008 L1-GA S0339 L4-3 S1030 LB), uid attribute has station id without the S (eg 0339), lineID attribute contains list of lines without L (eg 1-GA 4-3 B)\n",
    "# also notice transfer stations have more than one station id associated, so use names instead of ids as dict keys instead for unique identification\n",
    "\n",
    "sttn_id_dict = dict()\n",
    "sttn_line_dict = dict()\n",
    "\n",
    "for element in sttn_elements.cssselect('text'):\n",
    "    # station names contained in tspan element\n",
    "    # some station names have more than one word so need to iterate for each tspan element\n",
    "    station_name = ''.join(tspan_element.text.strip() for tspan_element in element.cssselect('tspan'))\n",
    "\n",
    "    # get line IDs\n",
    "    line_ids = element.attrib['lineid']\n",
    "\n",
    "    # Lines 1 ~ 9 as '{n + 1} - {n}', clean (eg Line 9 written as 10-9)\n",
    "    line_ids = re.sub(pattern = r'\\d+-(\\d)', repl = r'\\1', string = line_ids)\n",
    "\n",
    "    # split by space in case of transfer station\n",
    "    line_ids = line_ids.split(' ')\n",
    "\n",
    "    # get station IDs\n",
    "    station_ids = element.attrib['class']\n",
    "    station_ids = re.findall(pattern = r'S(\\S{4})', string = station_ids)\n",
    "\n",
    "    # update dicts\n",
    "    sttn_id_dict.update({f'{station_name}': station_ids})\n",
    "    sttn_line_dict.update({f'{station_name}': line_ids})"
   ]
  },
  {
   "cell_type": "code",
   "execution_count": 12,
   "id": "9762f737",
   "metadata": {},
   "outputs": [],
   "source": [
    "# lines (edges) info contained in multiple g elements with class = line, each individual line between two stations is a path element\n",
    "# colors of lines info contained in stroke attribute of each g element\n",
    "\n",
    "line_dict = dict()\n",
    "line_color_dict = dict()\n",
    "\n",
    "for line in subway_map.xpath('//g[@class = \"line\"]'):\n",
    "    line_color = line.attrib['stroke']\n",
    "    # extract line from first path element\n",
    "    extract_line = line.cssselect('path')[0].attrib['class']\n",
    "    extract_line = re.findall(pattern = r'L(\\S+)', string = extract_line)[0]\n",
    "    extract_line = re.sub(pattern = r'\\d+-(\\d)', repl = r'\\1', string = extract_line)\n",
    "    line_color_dict[extract_line] = line_color\n",
    "    \n",
    "    for element in line.cssselect('path'):\n",
    "        # class attribute in form 'path (line id) P(station 1 id)(station 2 id) P(station 2 id)(station 1 id)' (eg path L1-GA P00080009 P00090008)\n",
    "        class_attrib = element.attrib['class']\n",
    "\n",
    "        try:\n",
    "            line_id, station_id1, station_id2 = re.findall(pattern = r'L(\\S+) P(\\S{4})(\\S{4})', string = class_attrib)[0]\n",
    "\n",
    "            line_id = re.sub(pattern = r'\\d+-(\\d)', repl = r'\\1', string = line_id)\n",
    "\n",
    "            line_dict[(station_id1, station_id2)] = line_id\n",
    "\n",
    "        except IndexError:\n",
    "            # some line elements in map merely for help visualizing instead of representing actual subway lines (eg path L1-GA), ignore\n",
    "            continue"
   ]
  },
  {
   "cell_type": "code",
   "execution_count": 13,
   "id": "5c19c4cd",
   "metadata": {},
   "outputs": [],
   "source": [
    "# manually add data for Seoul Station (서울역) for each dict as represented twice in subway map, thus omitting one\n",
    "\n",
    "sttn_id_dict['서울역'] = ['1251', '9005', '0150', '0426', '4201']\n",
    "sttn_line_dict['서울역'] = ['K', '1', '4', 'A']\n",
    "line_dict[('0151', '0150')] = '1'\n",
    "line_dict[('0150', '1002')] = '1'\n",
    "line_dict[('0425', '0426')] = '4'\n",
    "line_dict[('0426', '0427')] = '4'\n",
    "line_dict[('4202', '4201')] = 'A'\n",
    "\n",
    "# manually add data for Sinchon Station_Underground (신촌역_지하) for each dict as there are two different stations with the same name, rename as Yangpyeong_Seoul (신촌역_지하)\n",
    "\n",
    "sttn_id_dict['신촌_지하'] = ['0240']\n",
    "sttn_line_dict['신촌_지하'] = ['2']\n",
    "\n",
    "# manually add data for Yangpyeong Station (양평역) in Seoul as there are two different stations with the same name, rename as Yangpyeong_Seoul (양평_서울)\n",
    "\n",
    "sttn_id_dict['양평_서울'] = ['2523']\n",
    "sttn_line_dict['양평_서울'] = ['5']"
   ]
  },
  {
   "cell_type": "code",
   "execution_count": 15,
   "id": "f5da70c7",
   "metadata": {},
   "outputs": [],
   "source": [
    "# update line_ids in sttn_line_dict, line_dict, and line_color_dict to actual names of lines\n",
    "\n",
    "line_name_dict = {f'{i}': f'{i}호선' for i in range(1, 10)}\n",
    "line_name_dict.update({'B': '수인분당선', 'G': '경춘선', 'KK': '경강선', 'K': '경의중앙선', 'A': '공항철도1호선', 'SH': '서해선', 'SL': '신림선', 'W': '우이신설선'})\n",
    "\n",
    "sttn_line_dict = {station: [line_name_dict.get(line, line) for line in sttn_line_dict[station]] for station in sttn_line_dict.keys()}\n",
    "\n",
    "line_dict = {key: line_name_dict.get(value, value) for key, value in line_dict.items()}\n",
    "\n",
    "line_color_dict = {line_name_dict.get(key, key): value for key, value in line_color_dict.items()}"
   ]
  },
  {
   "cell_type": "code",
   "execution_count": 16,
   "id": "984ab11a",
   "metadata": {},
   "outputs": [],
   "source": [
    "# filter sttn_line_dict for relevant lines, remove empty stations after filtering\n",
    "\n",
    "sttn_line_dict = {station: [line for line in lines if line in relevant_lines] for station, lines in sttn_line_dict.items()}\n",
    "sttn_line_dict = dict((k, v) for k, v in sttn_line_dict.items() if v != [])\n",
    "\n",
    "# do the same for sttn_id_dict, filter for relevant lines (by referencing sttn_line_dict)\n",
    "\n",
    "sttn_id_dict = {station: id for station, id in sttn_id_dict.items() if station in sttn_line_dict.keys()}"
   ]
  },
  {
   "cell_type": "code",
   "execution_count": 17,
   "id": "05eb55e6",
   "metadata": {},
   "outputs": [],
   "source": [
    "# fit station names in station_df to station names in sttn_id_dict/sttn_line_dict (so it fits with original subway map)\n",
    "\n",
    "station_df['bldn_nm'] = station_df['bldn_nm'].str.replace(r'\\(\\S+\\)', '', regex = True)\n",
    "\n",
    "# rename Yangpyeong, Sinchon stations for station_df\n",
    "\n",
    "station_df.loc[station_df['bldn_id'] == '2523', 'bldn_nm'] = '양평_서울'\n",
    "station_df.loc[(station_df['bldn_nm'] == '신촌') & (station_df['route'] == '2호선'), 'bldn_nm'] = '신촌_지하'\n",
    "\n",
    "# rename Yangpyeong, Sinchon stations for traffic_df\n",
    "\n",
    "traffic_df.loc[(traffic_df['sttn'] == '양평') & (traffic_df['sbwy_rout_ln_nm'] == '5호선'), 'sttn'] = '양평_서울'\n",
    "traffic_df.loc[(traffic_df['sttn'] == '신촌') & (traffic_df['sbwy_rout_ln_nm'] == '2호선'), 'sttn'] = '신촌_지하'\n",
    "\n",
    "# additional name cleaning (as of 2025-04-29)\n",
    "\n",
    "sttn_id_dict['4.19민주묘지'] = sttn_id_dict.pop('4·19민주묘지')\n",
    "sttn_id_dict['관악산'] = sttn_id_dict.pop('관악산(서울대)')\n",
    "sttn_line_dict['4.19민주묘지'] = sttn_line_dict.pop('4·19민주묘지')\n",
    "sttn_line_dict['관악산'] = sttn_line_dict.pop('관악산(서울대)')\n",
    "\n",
    "clean_station_df_names = {'남동인더스파크': '인더스파크남동', '당고개': '불암산', '동대문역사문화공원': '문화공원동대문역사', '뚝섬유원지': '자양', '신대방삼거리': '삼거리신대방', '원곡': '시우', '이수': '총신대입구', '지제': '평택지제', '초성리': '청산', '화전': '한국항공대'}\n",
    "station_df['bldn_nm'] = station_df['bldn_nm'].replace(clean_station_df_names)\n",
    "\n",
    "# do the same for traffic_df\n",
    "\n",
    "traffic_df['sttn'] = traffic_df['sttn'].str.replace(r'\\(\\S+\\)', '', regex = True)\n",
    "clean_traffic_df_names = clean_station_df_names\n",
    "clean_traffic_df_names.update({'동두천 중앙': '동두천중앙', '쌍용동': '쌍용', '인천국제공항': '인천공항1터미널'})\n",
    "traffic_df['sttn'] = traffic_df['sttn'].replace(clean_traffic_df_names)\n",
    "\n",
    "# additional stations in original subway map not covered in traffic_df (outside scope of data collection), delete\n",
    "\n",
    "s1 = set(sttn_id_dict.keys())\n",
    "s2 = set(traffic_df['sttn'])\n",
    "\n",
    "for name in (s1 - s2):\n",
    "    del sttn_id_dict[name]\n",
    "    del sttn_line_dict[name]\n",
    "    station_df = station_df[station_df['bldn_nm'] != name]"
   ]
  },
  {
   "cell_type": "code",
   "execution_count": 18,
   "id": "5e68adad",
   "metadata": {},
   "outputs": [],
   "source": [
    "# filter line_dict, line_color_dict for relevant lines\n",
    "\n",
    "for key in list(line_dict.keys()):\n",
    "    if line_dict[key] not in relevant_lines:\n",
    "        del line_dict[key]\n",
    "\n",
    "for key in list(line_color_dict.keys()):\n",
    "    if key not in relevant_lines:\n",
    "        del line_color_dict[key]\n",
    "\n",
    "# filter again as some stations in relevant lines excluded from data collection (step analogous to previous cell)\n",
    "\n",
    "relevant_ids = [id for id_list in sttn_id_dict.values() for id in id_list]\n",
    "\n",
    "for key in list(line_dict.keys()):\n",
    "    if any(station_id not in relevant_ids for station_id in key):\n",
    "        del line_dict[key]"
   ]
  },
  {
   "cell_type": "code",
   "execution_count": 19,
   "id": "20d80176",
   "metadata": {},
   "outputs": [],
   "source": [
    "# new_line_color_dict, {station - station: color} instead of {line: color}\n",
    "\n",
    "new_line_color_dict = {key: line_color_dict.get(value, value) for key, value in line_dict.items()}"
   ]
  },
  {
   "cell_type": "code",
   "execution_count": 20,
   "id": "cbc29cc4",
   "metadata": {},
   "outputs": [],
   "source": [
    "# going back to station_df\n",
    "\n",
    "# turn transfer stations into one station, take average of coordinates for position, assign all connected lines to route (after completing project, realized could have simply deleted everything except bldn_nm and coordinates as station_df turned out to be mostly unnecessary)\n",
    "\n",
    "def custom_agg_function(x):\n",
    "    return [set([route for route in x])]\n",
    "\n",
    "station_df_agg_functions = {'bldn_id': 'first', 'route': custom_agg_function, 'lot': 'mean', 'lat': 'mean'}\n",
    "\n",
    "station_df = station_df.groupby(['bldn_nm']).aggregate(station_df_agg_functions).reset_index()"
   ]
  },
  {
   "cell_type": "code",
   "execution_count": 21,
   "id": "28a1dd91",
   "metadata": {},
   "outputs": [],
   "source": [
    "# change original ids in subway_df to ids collected from subway map for compatibility with lines_dict when creating graph (turned out to be unnecessary step)\n",
    "\n",
    "station_df['ids'] = station_df.apply(lambda x: sttn_id_dict[x['bldn_nm']], axis = 1)\n",
    "station_df = station_df.drop('bldn_id', axis = 1)"
   ]
  },
  {
   "cell_type": "code",
   "execution_count": 22,
   "id": "dd37c9d4",
   "metadata": {},
   "outputs": [],
   "source": [
    "# get dictionary of station coordinates to add as node attributes\n",
    "\n",
    "sttn_pos_dict = dict()\n",
    "\n",
    "for key in sttn_id_dict:\n",
    "    sttn_pos_dict.update({key: (station_df['lat'][station_df['bldn_nm'] == key].values[0], station_df['lot'][station_df['bldn_nm'] == key].values[0])})"
   ]
  },
  {
   "cell_type": "code",
   "execution_count": 23,
   "id": "c3dd4f00",
   "metadata": {},
   "outputs": [],
   "source": [
    "# transform line_dict from {(station_id, station_id): line_id} to {(station_name, station_name): line_id}\n",
    "\n",
    "for stations, line in zip(list(line_dict.keys()), list(line_dict.values())):\n",
    "    for station_name, station_ids in sttn_id_dict.items():\n",
    "        if stations[0] in station_ids:\n",
    "            x_station = station_name\n",
    "        elif stations[1] in station_ids:\n",
    "            y_station = station_name\n",
    "    line_dict[x_station, y_station] = line_dict.pop(stations)\n",
    "\n",
    "# transform new_line_color_dict from {(station_id, station_id): color} to {(station_name, station_name): color}\n",
    "\n",
    "for stations, color in zip(list(new_line_color_dict.keys()), list(new_line_color_dict.values())):\n",
    "    for station_name, station_ids in sttn_id_dict.items():\n",
    "        if stations[0] in station_ids:\n",
    "            x_station = station_name\n",
    "        elif stations[1] in station_ids:\n",
    "            y_station = station_name\n",
    "    new_line_color_dict[x_station, y_station] = new_line_color_dict.pop(stations)"
   ]
  },
  {
   "cell_type": "code",
   "execution_count": 24,
   "id": "636c1a99",
   "metadata": {},
   "outputs": [],
   "source": [
    "# create base graph (lines attribute for nodes not really needed, commented out)\n",
    "\n",
    "base_seoul_subway_graph = nx.Graph()\n",
    "\n",
    "base_seoul_subway_graph.add_nodes_from(sttn_id_dict.keys())\n",
    "\n",
    "nx.set_node_attributes(base_seoul_subway_graph, sttn_id_dict, 'ids')\n",
    "nx.set_node_attributes(base_seoul_subway_graph, sttn_line_dict, 'lines')\n",
    "nx.set_node_attributes(base_seoul_subway_graph, sttn_pos_dict, 'pos')\n",
    "\n",
    "# add lines (edges)\n",
    "\n",
    "base_seoul_subway_graph.add_edges_from(line_dict.keys())\n",
    "nx.set_edge_attributes(base_seoul_subway_graph, line_dict, 'line')\n",
    "nx.set_edge_attributes(base_seoul_subway_graph, new_line_color_dict, 'color')"
   ]
  },
  {
   "cell_type": "code",
   "execution_count": 25,
   "id": "dc79cbbe",
   "metadata": {},
   "outputs": [],
   "source": [
    "# groupby sttn (thus combining transfer stations into one, similarly to how we did on station_df), use_mm on traffic_df for data sorted into use_mm\n",
    "\n",
    "traffic_df_agg_functions = {col: 'sum' for col in traffic_df_rename_cols_dict.values()}\n",
    "traffic_df_agg_functions.update({'sbwy_rout_ln_nm': custom_agg_function})\n",
    "traffic_df = traffic_df.groupby(['sttn', 'use_mm']).agg(traffic_df_agg_functions).reset_index()"
   ]
  },
  {
   "cell_type": "code",
   "execution_count": 26,
   "id": "b4510b8e",
   "metadata": {},
   "outputs": [],
   "source": [
    "# create columns for traffic_df to calculate net, total (passengers getting both on and off) for each hour interval, divide by 30 for daily average\n",
    "\n",
    "for i in [_ for _ in range(24) if _ < 1 or _ > 4]:\n",
    "    traffic_df[f'{i}_total'] = ((traffic_df[f'{i}_on'] + traffic_df[f'{i}_off']) / 30).astype(int)\n",
    "    traffic_df[f'{i}_net'] = ((traffic_df[f'{i}_on'] - traffic_df[f'{i}_off']) / 30).astype(int)"
   ]
  },
  {
   "cell_type": "code",
   "execution_count": 27,
   "id": "1b20833d",
   "metadata": {},
   "outputs": [],
   "source": [
    "# subset traffic_df into each time interval\n",
    "\n",
    "traffic_dict = dict()\n",
    "for i in [_ for _ in range(24) if _ < 1 or _ > 4]:\n",
    "    traffic_dict[f'hr_{i}_df'] = traffic_df[['sttn', 'use_mm', 'sbwy_rout_ln_nm', f'{i}_on', f'{i}_off', f'{i}_total', f'{i}_net']]"
   ]
  },
  {
   "cell_type": "code",
   "execution_count": 28,
   "id": "b4a21222",
   "metadata": {},
   "outputs": [],
   "source": [
    "# dict with info for larger lines (Line 1, etc...) for easier visualization\n",
    "\n",
    "meta_line_dict = dict()\n",
    "for line in relevant_lines:\n",
    "    meta_line_dict[line] = {key: value for key, value in line_dict.items() if value == line}"
   ]
  },
  {
   "cell_type": "code",
   "execution_count": 29,
   "id": "766fc5f0",
   "metadata": {},
   "outputs": [],
   "source": [
    "# testing visualization\n",
    "\n",
    "hour = 17\n",
    "month = '202502'\n",
    "\n",
    "test_traffic_subset = traffic_df[['sttn', 'sbwy_rout_ln_nm', f'{hour}_on', f'{hour}_off', f'{hour}_total', f'{hour}_net']][traffic_df['use_mm'] == month]\n",
    "test_stations = traffic_df['sttn'][traffic_df['use_mm'] == month].values\n",
    "test_station_subset = station_df[station_df['bldn_nm'].isin(test_stations)]\n",
    "\n",
    "test_subgraph = base_seoul_subway_graph.subgraph(test_stations)\n",
    "\n",
    "net_dict = dict()\n",
    "total_dict = dict()\n",
    "for station in test_stations:\n",
    "    net_dict[station] = test_traffic_subset[f'{hour}_net'][test_traffic_subset['sttn'] == station]\n",
    "    total_dict[station] = test_traffic_subset[f'{hour}_total'][test_traffic_subset['sttn'] == station]\n",
    "\n",
    "nx.set_node_attributes(test_subgraph, net_dict, 'net')\n",
    "nx.set_node_attributes(test_subgraph, total_dict, 'total')\n",
    "\n",
    "test_df = pd.merge(test_station_subset['bldn_nm'], test_traffic_subset[['17_total', '17_net', 'sttn']], left_on = 'bldn_nm', right_on = 'sttn')\n",
    "\n",
    "test_df['text'] = test_df['bldn_nm'] + '\\nTotal: ' + test_df['17_total'].astype(str) + '\\nNet: ' + test_df['17_net'].astype(str)"
   ]
  },
  {
   "cell_type": "code",
   "execution_count": 30,
   "id": "e408ad67",
   "metadata": {},
   "outputs": [
    {
     "data": {
      "application/vnd.plotly.v1+json": {
       "config": {
        "plotlyServerURL": "https://plot.ly"
       },
       "data": [
        {
         "lat": {
          "bdata": "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",
          "dtype": "f8"
         },
         "line": {
          "color": "#052f93",
          "width": 3
         },
         "lon": {
          "bdata": "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",
          "dtype": "f8"
         },
         "mode": "lines",
         "name": "1호선",
         "type": "scattermap"
        },
        {
         "lat": {
          "bdata": "mIdM+RDEQkD9v+rIkcJCQAAAAAAAAPh//b/qyJHCQkCVRPZBlsFCQAAAAAAAAPh/lUT2QZbBQkAF4Qoo1MFCQAAAAAAAAPh/BeEKKNTBQkCvid8nIcFCQAAAAAAAAPh/r4nfJyHBQkB0QuigS8JCQAAAAAAAAPh/dELooEvCQkDlinjYMcNCQAAAAAAAAPh/5Yp42DHDQkDICn4bYsRCQAAAAAAAAPh/yAp+G2LEQkB5brT2UcZCQAAAAAAAAPh/eW609lHGQkCqXiPuVsdCQAAAAAAAAPh/ql4j7lbHQkAuOe6UDsdCQAAAAAAAAPh/LjnulA7HQkBPzeUGQ8dCQAAAAAAAAPh/T83lBkPHQkBoy7kUV8dCQAAAAAAAAPh/aMu5FFfHQkCt2jUhrcdCQAAAAAAAAPh/rdo1Ia3HQkBk5gKXR8hCQAAAAAAAAPh/ZOYCl0fIQkABipElc8hCQAAAAAAAAPh/AYqRJXPIQkCmW3aIf8hCQAAAAAAAAPh/plt2iH/IQkBxsY87kshCQAAAAAAAAPh/jF8dbFbIQkAgC9EhcMhCQAAAAAAAAPh/IAvRIXDIQkDzrnrAPMhCQAAAAAAAAPh/8656wDzIQkC8z/HR4sdCQAAAAAAAAPh/vM/x0eLHQkAIrYcvE8dCQAAAAAAAAPh/CK2HLxPHQkB+chQgCsZCQAAAAAAAAPh/fnIUIArGQkDxgojUtMVCQAAAAAAAAPh/8YKI1LTFQkCgKOPyMsVCQAAAAAAAAPh/oCjj8jLFQkCGN2vwvsRCQAAAAAAAAPh/hjdr8L7EQkBmoDL+fcRCQAAAAAAAAPh/ZqAy/n3EQkBXeQJhp8JCQAAAAAAAAPh/V3kCYafCQkBjmBO0ycFCQAAAAAAAAPh/Y5gTtMnBQkDpZKn1fsFCQAAAAAAAAPh/6WSp9X7BQkApif9ObcFCQAAAAAAAAPh/KYn/Tm3BQkAHYtnMIcFCQAAAAAAAAPh/B2LZzCHBQkCAdS8KlcBCQAAAAAAAAPh/gHUvCpXAQkA91LZhFMBCQAAAAAAAAPh/PdS2YRTAQkDtR4rIsL9CQAAAAAAAAPh/7UeKyLC/QkBKCiyAKb9CQAAAAAAAAPh/SgosgCm/QkARABx79r5CQAAAAAAAAPh/EQAce/a+QkDYuP5dn71CQAAAAAAAAPh/2Lj+XZ+9QkDm4m97Ar1CQAAAAAAAAPh/5uJvewK9QkCbPdAKDL1CQAAAAAAAAPh/mz3QCgy9QkApJm+Amb1CQAAAAAAAAPh/KSZvgJm9QkClarsJvr1CQAAAAAAAAPh/pWq7Cb69QkCRjk45Ar5CQAAAAAAAAPh/kY5OOQK+QkB5BaInZb5CQAAAAAAAAPh/eQWiJ2W+QkAt7j8yHb5CQAAAAAAAAPh/Le4/Mh2+QkDDkK8XHb9CQAAAAAAAAPh/w5CvFx2/QkCvid8nIcFCQAAAAAAAAPh/8YKI1LTFQkDsvmN47MdCQAAAAAAAAPh/7L5jeOzHQkC3tBoS98hCQAAAAAAAAPh/t7QaEvfIQkCAft+/eclCQAAAAAAAAPh/gH7fv3nJQkDxeQ/hqclCQAAAAAAAAPh/",
          "dtype": "f8"
         },
         "line": {
          "color": "#10a643",
          "width": 3
         },
         "lon": {
          "bdata": "EcXkDTC2X0BslzYclrZfQAAAAAAAAPh/bJc2HJa2X0BZUBiUabdfQAAAAAAAAPh/WVAYlGm3X0AkfVpFf7hfQAAAAAAAAPh/JH1aRX+4X0DhLBIACblfQAAAAAAAAPh/4SwSAAm5X0A3cXK/Q7lfQAAAAAAAAPh/N3Fyv0O5X0CDgI/UVblfQAAAAAAAAPh/g4CP1FW5X0Djb3uCxLlfQAAAAAAAAPh/4297gsS5X0CIrh4KebpfQAAAAAAAAPh/iK4eCnm6X0CY4T/dQLtfQAAAAAAAAPh/mOE/3UC7X0Dzc0NT9rtfQAAAAAAAAPh/83NDU/a7X0DQJRx6i7xfQAAAAAAAAPh/0CUceou8X0BYVwVqMb1fQAAAAAAAAPh/WFcFajG9X0CVsgxxrL1fQAAAAAAAAPh/lbIMcay9X0CufJbngb5fQAAAAAAAAPh/rnyW54G+X0CAnZs2475fQAAAAAAAAPh/gJ2bNuO+X0D2Rq0wfb9fQAAAAAAAAPh/9katMH2/X0BYjLrW3r9fQAAAAAAAAPh/nbksy3zAX0AF+kSeJMFfQAAAAAAAAPh/BfpEniTBX0BvgJnv4MFfQAAAAAAAAPh/b4CZ7+DBX0CloxzMZsJfQAAAAAAAAPh/paMczGbCX0CkU1c+y8JfQAAAAAAAAPh/pFNXPsvCX0A3+pgPCMNfQAAAAAAAAPh/N/qYDwjDX0B+NnLdlMNfQAAAAAAAAPh/fjZy3ZTDX0CtgEI9fcRfQAAAAAAAAPh/rYBCPX3EX0AAjdKlf8VfQAAAAAAAAPh/AI3SpX/FX0Bdo+VAD8ZfQAAAAAAAAPh/XaPlQA/GX0C46c9+pMZfQAAAAAAAAPh/uOnPfqTGX0CdIwUpi8ZfQAAAAAAAAPh/nSMFKYvGX0AcCp+tg8VfQAAAAAAAAPh/HAqfrYPFX0CTedFExcRfQAAAAAAAAPh/k3nRRMXEX0CVmj3QCsRfQAAAAAAAAPh/lZo90ArEX0C44vVzHcNfQAAAAAAAAPh/uOL1cx3DX0CN74tLVcJfQAAAAAAAAPh/je+LS1XCX0D4+8VsycFfQAAAAAAAAPh/+PvFbMnBX0B1eAjj58BfQAAAAAAAAPh/dXgI4+fAX0BHBU62gcBfQAAAAAAAAPh/RwVOtoHAX0C1p+Sc2L9fQAAAAAAAAPh/tafknNi/X0DkSdI1075fQAAAAAAAAPh/5EnSNdO+X0CWmGclrb1fQAAAAAAAAPh/lphnJa29X0Drp/+s+bxfQAAAAAAAAPh/66f/rPm8X0BMF2L1R7xfQAAAAAAAAPh/TBdi9Ue8X0DroMrof7tfQAAAAAAAAPh/66DK6H+7X0AC2IAIcbpfQAAAAAAAAPh/AtiACHG6X0A75dGNsLlfQAAAAAAAAPh/O+XRjbC5X0DI0/IDV7lfQAAAAAAAAPh/yNPyA1e5X0DhLBIACblfQAAAAAAAAPh/fjZy3ZTDX0CLGeHtQcNfQAAAAAAAAPh/ixnh7UHDX0CquHGL+cJfQAAAAAAAAPh/qrhxi/nCX0Bn0TsVcMJfQAAAAAAAAPh/Z9E7FXDCX0BbZsf8ksFfQAAAAAAAAPh/",
          "dtype": "f8"
         },
         "mode": "lines",
         "name": "2호선",
         "type": "scattermap"
        },
        {
         "lat": {
          "bdata": "GSDRBIrWQkCP+1brxNVCQAAAAAAAAPh/j/tW68TVQkBruwm+adRCQAAAAAAAAPh/a7sJvmnUQkCjIHh8e9NCQAAAAAAAAPh/oyB4fHvTQkDEzD6PUdJCQAAAAAAAAPh/xMw+j1HSQkDSpuoe2dBCQAAAAAAAAPh/0qbqHtnQQkDQJodPOtFCQAAAAAAAAPh/0CaHTzrRQkCQ2O4eoNNCQAAAAAAAAPh/kNjuHqDTQkC9cOfCSNNCQAAAAAAAAPh/vXDnwkjTQkBrSUc5mNNCQAAAAAAAAPh/a0lHOZjTQkBYCQO88tJCQAAAAAAAAPh/WAkDvPLSQkDEJjJzgdFCQAAAAAAAAPh/xCYyc4HRQkD8LKntOc9CQAAAAAAAAPh//Cyp7TnPQkAfHq8tKc5CQAAAAAAAAPh/Hx6vLSnOQkBGJAot68xCQAAAAAAAAPh/RiQKLevMQkDAl8KDZstCQAAAAAAAAPh/wJfCg2bLQkArvwzGiMpCQAAAAAAAAPh/K78MxojKQkBxHeOKi8lCQAAAAAAAAPh/cR3jiovJQkDII7iRsslCQAAAAAAAAPh/yCO4kbLJQkC28pL/yclCQAAAAAAAAPh/tvKS/8nJQkAhdxGmKMlCQAAAAAAAAPh/IXcRpijJQkCmW3aIf8hCQAAAAAAAAPh/plt2iH/IQkDrjzAM2MdCQAAAAAAAAPh/648wDNjHQkC3YRQEj8dCQAAAAAAAAPh/t2EUBI/HQkDC+j+H+cZCQAAAAAAAAPh/wvo/h/nGQkBMjGX6JcZCQAAAAAAAAPh/TIxl+iXGQkDjaKF3PcVCQAAAAAAAAPh/42ihdz3FQkCTUWUYd8NCQAAAAAAAAPh/k1FlGHfDQkAM6IU7F8JCQAAAAAAAAPh/DOiFOxfCQkBm3T8WosFCQAAAAAAAAPh/Zt0/FqLBQkC8IY0KnMBCQAAAAAAAAPh/vCGNCpzAQkBKCiyAKb9CQAAAAAAAAPh/SgosgCm/QkBDke7nFL5CQAAAAAAAAPh/Q5Hu5xS+QkC6h4Tv/b1CQAAAAAAAAPh/uoeE7/29QkBS8X9HVL5CQAAAAAAAAPh/UvF/R1S+QkDDerYh2b5CQAAAAAAAAPh/w3q2Idm+QkDFGi5yT79CQAAAAAAAAPh/xRouck+/QkAOETenkr9CQAAAAAAAAPh/DhE3p5K/QkAfD313K79CQAAAAAAAAPh/Hw99dyu/QkApWU5C6b1CQAAAAAAAAPh/KVlOQum9QkC1a0JaY75CQAAAAAAAAPh/tWtCWmO+QkA59tnuC79CQAAAAAAAAPh/OfbZ7gu/QkC2v7M9er9CQAAAAAAAAPh/tr+zPXq/QkAwZktWRcBCQAAAAAAAAPh/",
          "dtype": "f8"
         },
         "line": {
          "color": "#de6d00",
          "width": 3
         },
         "lon": {
          "bdata": "OKClK9ivX0BO1T2yubBfQAAAAAAAAPh/TtU9srmwX0BORL+2frFfQAAAAAAAAPh/TkS/tn6xX0DLLa2GxLFfQAAAAAAAAPh/yy2thsSxX0D430p2bLJfQAAAAAAAAPh/+N9KdmyyX0BaETXR57NfQAAAAAAAAPh/WhE10eezX0DswDkjSrVfQAAAAAAAAPh/7MA5I0q1X0D6Cz1i9LVfQAAAAAAAAPh/+gs9YvS1X0Btx9Rd2bdfQAAAAAAAAPh/bcfUXdm3X0D0aoDSULlfQAAAAAAAAPh/9GqA0lC5X0DYE10XfrpfQAAAAAAAAPh/2BNdF366X0AxeJj2zbpfQAAAAAAAAPh/MXiY9s26X0ChNwLe77pfQAAAAAAAAPh/oTcC3u+6X0DtBzwwgLtfQAAAAAAAAPh/7Qc8MIC7X0BKQiJt47tfQAAAAAAAAPh/SkIibeO7X0C0A64rZrxfQAAAAAAAAPh/tAOuK2a8X0C5q1eR0bxfQAAAAAAAAPh/uatXkdG8X0DNc0S+S71fQAAAAAAAAPh/zXNEvku9X0Ax68VQTr5fQAAAAAAAAPh/MevFUE6+X0CeRIR/Eb9fQAAAAAAAAPh/nkSEfxG/X0Dzp43qdL9fQAAAAAAAAPh/86eN6nS/X0D2Rq0wfb9fQAAAAAAAAPh/9katMH2/X0DGGcOcoL9fQAAAAAAAAPh/xhnDnKC/X0Czsn3IW8BfQAAAAAAAAPh/s7J9yFvAX0A9gbBTrMBfQAAAAAAAAPh/PYGwU6zAX0AEO/4LBMFfQAAAAAAAAPh/BDv+CwTBX0Do6wxmJsFfQAAAAAAAAPh/6OsMZibBX0CIDRZO0sFfQAAAAAAAAPh/iA0WTtLBX0BGDDuMScFfQAAAAAAAAPh/Rgw7jEnBX0DpQxfUt8BfQAAAAAAAAPh/6UMX1LfAX0BOXfksT8BfQAAAAAAAAPh/Tl35LE/AX0B1eAjj58BfQAAAAAAAAPh/dXgI4+fAX0CEY5Y9CcFfQAAAAAAAAPh/hGOWPQnBX0BMNh5sMcJfQAAAAAAAAPh/TDYebDHCX0DdXWdD/sJfQAAAAAAAAPh/3V1nQ/7CX0BQoGKvisNfQAAAAAAAAPh/UKBir4rDX0C7KeW1EsRfQAAAAAAAAPh/uynltRLEX0DOUrKchMRfQAAAAAAAAPh/zlKynITEX0ASv2INF8VfQAAAAAAAAPh/Er9iDRfFX0ABh1ClZsVfQAAAAAAAAPh/AYdQpWbFX0DTHhzZgsZfQAAAAAAAAPh/0x4c2YLGX0BTwbtvj8dfQAAAAAAAAPh/U8G7b4/HX0DOwp52+MdfQAAAAAAAAPh/zsKedvjHX0BrzWkpM8hfQAAAAAAAAPh/",
          "dtype": "f8"
         },
         "mode": "lines",
         "name": "3호선",
         "type": "scattermap"
        },
        {
         "lat": {
          "bdata": "VrYPecvVQkCsUnqml9RCQAAAAAAAAPh/rFJ6ppfUQkAWDMGE5NNCQAAAAAAAAPh/FgzBhOTTQkCsONVamNNCQAAAAAAAAPh/rDjVWpjTQkC7JqQ1BtNCQAAAAAAAAPh/uyakNQbTQkDekhywq9FCQAAAAAAAAPh/3pIcsKvRQkAxsfm4NtBCQAAAAAAAAPh/MbH5uDbQQkAAcy1agM5CQAAAAAAAAPh/AHMtWoDOQkC3lslwPM1CQAAAAAAAAPh/t5bJcDzNQkAMgN5B2ctCQAAAAAAAAPh/DIDeQdnLQkDoiHyXUstCQAAAAAAAAPh/6Ih8l1LLQkBIpG38icpCQAAAAAAAAPh/SKRt/InKQkBC7bd2IslCQAAAAAAAAPh/Qu23diLJQkCMXx1sVshCQAAAAAAAAPh/jF8dbFbIQkDrjzAM2MdCQAAAAAAAAPh/648wDNjHQkA3NdB8zsdCQAAAAAAAAPh/NzXQfM7HQkDYLQJjfcdCQAAAAAAAAPh/2C0CY33HQkAAHebLC8dCQAAAAAAAAPh/AB3mywvHQkDZWl8ktMVCQAAAAAAAAPh/2VpfJLTFQkAsXGksdMRCQAAAAAAAAPh/LFxpLHTEQkAdA7LXu8NCQAAAAAAAAPh/HQOy17vDQkDfK83A28JCQAAAAAAAAPh/3yvNwNvCQkA3aMIJX8BCQAAAAAAAAPh/N2jCCV/AQkDRxiQ2Mr5CQAAAAAAAAPh/0cYkNjK+QkDm4m97Ar1CQAAAAAAAAPh/5uJvewK9QkCrP8IwYLtCQAAAAAAAAPh/qz/CMGC7QkA8vr1r0LlCQAAAAAAAAPh/PL69a9C5QkCtF0M50bhCQAAAAAAAAPh/rRdDOdG4QkCoV8oyxLdCQAAAAAAAAPh/qFfKMsS3QkCYvWw7bbdCQAAAAAAAAPh/mL1sO223QkDQKF36l7ZCQAAAAAAAAPh/0Chd+pe2QkArTrUWZrNCQAAAAAAAAPh/K061FmazQkB1HhX/d7JCQAAAAAAAAPh/dR4V/3eyQkDYmq285LFCQAAAAAAAAPh/2JqtvOSxQkBSCrq9pK9CQAAAAAAAAPh/Ugq6vaSvQkAb1elA1q1CQAAAAAAAAPh/G9XpQNatQkDWjXdHxqxCQAAAAAAAAPh/1o13R8asQkBaaOc0C6pCQAAAAAAAAPh/WmjnNAuqQkCatRSQ9qdCQAAAAAAAAPh/mrUUkPanQkA4Mo/8waZCQAAAAAAAAPh/ODKP/MGmQkApd5/jo6dCQAAAAAAAAPh/KXef46OnQkCXOzPBcKhCQAAAAAAAAPh/lzszwXCoQkCy8stgjKhCQAAAAAAAAPh/svLLYIyoQkCA8Qwa+qhCQAAAAAAAAPh/gPEMGvqoQkAdjq7S3alCQAAAAAAAAPh/HY6u0t2pQkCwjuOHSqtCQAAAAAAAAPh/sI7jh0qrQkDl7QinBa1CQAAAAAAAAPh/5e0IpwWtQkAEPdS2Ya5CQAAAAAAAAPh/",
          "dtype": "f8"
         },
         "line": {
          "color": "#0099d1",
          "width": 3
         },
         "lon": {
          "bdata": "bw7Xag/FX0CveVVntcRfQAAAAAAAAPh/r3lVZ7XEX0BDBvLs8sNfQAAAAAAAAPh/Qwby7PLDX0Ax4D/wC8NfQAAAAAAAAPh/MeA/8AvDX0Af+BisOMJfQAAAAAAAAPh/H/gYrDjCX0B8ndSXpcFfQAAAAAAAAPh/fJ3Ul6XBX0Ag0Jm0qcFfQAAAAAAAAPh/INCZtKnBX0BjCWtj7MFfQAAAAAAAAPh/YwlrY+zBX0Cr6uV3msFfQAAAAAAAAPh/q+rld5rBX0DrJEiSDcFfQAAAAAAAAPh/6yRIkg3BX0AZ48PsZcBfQAAAAAAAAPh/GePD7GXAX0Bo7Es2HsBfQAAAAAAAAPh/aOxLNh7AX0DCps6josBfQAAAAAAAAPh/wqbOo6LAX0CduSzLfMBfQAAAAAAAAPh/nbksy3zAX0DGGcOcoL9fQAAAAAAAAPh/xhnDnKC/X0CKjuTyH79fQAAAAAAAAPh/io7k8h+/X0BXXByVm75fQAAAAAAAAPh/V1wclZu+X0AeGhajLr5fQAAAAAAAAPh/HhoWoy6+X0C0jxX8Nr5fQAAAAAAAAPh/tI8V/Da+X0B/5S6vSb5fQAAAAAAAAPh/f+Uur0m+X0Co/6z58b1fQAAAAAAAAPh/qP+s+fG9X0Bx7MaoWL5fQAAAAAAAAPh/cezGqFi+X0AtVXxWrL5fQAAAAAAAAPh/LVV8Vqy+X0DxDYXP1r5fQAAAAAAAAPh/8Q2Fz9a+X0DkSdI1075fQAAAAAAAAPh/5EnSNdO+X0AmV7H4Tb9fQAAAAAAAAPh/Jlex+E2/X0Cxa3u7JcBfQAAAAAAAAPh/sWt7uyXAX0D5gas8gcBfQAAAAAAAAPh/+YGrPIHAX0D/6nHfasBfQAAAAAAAAPh//+px32rAX0BeDybFx79fQAAAAAAAAPh/Xg8mxce/X0AIjzaOWL9fQAAAAAAAAPh/CI82jli/X0DPoKF/gr5fQAAAAAAAAPh/z6Chf4K+X0DnilJCsL1fQAAAAAAAAPh/54pSQrC9X0DMtWgB2rxfQAAAAAAAAPh/zLVoAdq8X0DU0twKYbxfQAAAAAAAAPh/1NLcCmG8X0BBDd/CurtfQAAAAAAAAPh/QQ3fwrq7X0A89x4uObtfQAAAAAAAAPh/PPceLjm7X0DB5EaRtbpfQAAAAAAAAPh/weRGkbW6X0CsyVNW07lfQAAAAAAAAPh/rMlTVtO5X0AAVkeOdLdfQAAAAAAAAPh/AFZHjnS3X0BKRs7CnrZfQAAAAAAAAPh/SkbOwp62X0DAkxYuq7VfQAAAAAAAAPh/wJMWLqu1X0CD+StkrrRfQAAAAAAAAPh/g/krZK60X0AEOShhprNfQAAAAAAAAPh/BDkoYaazX0Be9utOd7JfQAAAAAAAAPh/XvbrTneyX0CfdY2WA7FfQAAAAAAAAPh/n3WNlgOxX0BqErwhja9fQAAAAAAAAPh/ahK8IY2vX0A7xhUXR69fQAAAAAAAAPh/",
          "dtype": "f8"
         },
         "mode": "lines",
         "name": "4호선",
         "type": "scattermap"
        },
        {
         "lat": {
          "bdata": "cbGPO5LIQkCMXx1sVshCQAAAAAAAAPh/X5oiwOnJQkCtodReRMlCQAAAAAAAAPh/raHUXkTJQkBoklhS7sdCQAAAAAAAAPh/aJJYUu7HQkDshJfg1MdCQAAAAAAAAPh/7ISX4NTHQkA5Y5gTtMdCQAAAAAAAAPh/OWOYE7THQkA2zqYjgMdCQAAAAAAAAPh/Ns6mI4DHQkCxi6IHPsZCQAAAAAAAAPh/sYuiBz7GQkDvrUhMUMVCQAAAAAAAAPh/761ITFDFQkCYh0z5EMRCQAAAAAAAAPh/mIdM+RDEQkDCvwgaM8NCQAAAAAAAAPh/wr8IGjPDQkD+SBEZVsNCQAAAAAAAAPh//kgRGVbDQkAAcVevIsNCQAAAAAAAAPh/AHFXryLDQkBNZVHYRcNCQAAAAAAAAPh/TWVR2EXDQkDlinjYMcNCQAAAAAAAAPh/5Yp42DHDQkAH0VrR5sJCQAAAAAAAAPh/B9Fa0ebCQkD3zJIANcJCQAAAAAAAAPh/98ySADXCQkBqiZXRyMJCQAAAAAAAAPh/aomV0cjCQkC95H/yd8NCQAAAAAAAAPh/veR/8nfDQkDO4sXCEMVCQAAAAAAAAPh/zuLFwhDFQkBujPiphcVCQAAAAAAAAPh/boz4qYXFQkAWTz3S4MZCQAAAAAAAAPh/Fk890uDGQkCt2jUhrcdCQAAAAAAAAPh/rdo1Ia3HQkDb+uk/a8hCQAAAAAAAAPh/2/rpP2vIQkBX7C+7J8lCQAAAAAAAAPh/V+wvuyfJQkAhdxGmKMlCQAAAAAAAAPh/IXcRpijJQkBxsY87kshCQAAAAAAAAPh/jF8dbFbIQkAFpz6QvMdCQAAAAAAAAPh/Bac+kLzHQkD2B8pt+8ZCQAAAAAAAAPh/9gfKbfvGQkCwq8lTVsdCQAAAAAAAAPh/sKvJU1bHQkC8z/HR4sdCQAAAAAAAAPh/vM/x0eLHQkD/If32dchCQAAAAAAAAPh//yH99nXIQkCVDWsqi8hCQAAAAAAAAPh/lQ1rKovIQkBHVRNE3cdCQAAAAAAAAPh/R1UTRN3HQkADz72HS8dCQAAAAAAAAPh/A8+9h0vHQkCvP4nPncZCQAAAAAAAAPh/rz+Jz53GQkCRtBt9zMVCQAAAAAAAAPh/kbQbfczFQkCsN2qF6cRCQAAAAAAAAPh/rDdqhenEQkByiLg5lcRCQAAAAAAAAPh/coi4OZXEQkDIYMWp1sRCQAAAAAAAAPh/yGDFqdbEQkAv3Lkw0sVCQAAAAAAAAPh/L9y5MNLFQkBt/8pKk8ZCQAAAAAAAAPh/bf/KSpPGQkAYk/5eCsdCQAAAAAAAAPh/GJP+XgrHQkA3pbxWQsdCQAAAAAAAAPh/N6W8VkLHQkBs7BLVW8dCQAAAAAAAAPh/bOwS1VvHQkDBOLh0zMdCQAAAAAAAAPh/wTi4dMzHQkDZI9QMqcZCQAAAAAAAAPh/2SPUDKnGQkCif4KLFcVCQAAAAAAAAPh/on+CixXFQkD+ZffkYcVCQAAAAAAAAPh/coi4OZXEQkBSnKOOjsNCQAAAAAAAAPh/Upyjjo7DQkB5Bg39E8JCQAAAAAAAAPh/eQYN/RPCQkCbq+Y5IsFCQAAAAAAAAPh/m6vmOSLBQkAwZktWRcBCQAAAAAAAAPh/MGZLVkXAQkCF6XsNwb9CQAAAAAAAAPh/hel7DcG/QkA+P4wQHr9CQAAAAAAAAPh/Pj+MEB6/QkBs7BLVW79CQAAAAAAAAPh/",
          "dtype": "f8"
         },
         "line": {
          "color": "#a95094",
          "width": 3
         },
         "lon": {
          "bdata": "WIy61t6/X0CduSzLfMBfQAAAAAAAAPh/k8fT8gO0X0D0/j9OmLNfQAAAAAAAAPh/9P4/TpizX0BnYyXmWbNfQAAAAAAAAPh/Z2Ml5lmzX0AKD5pd97NfQAAAAAAAAPh/Cg+aXfezX0AcI9kj1LRfQAAAAAAAAPh/HCPZI9S0X0D3OT5anLVfQAAAAAAAAPh/9zk+Wpy1X0CYw+47hrVfQAAAAAAAAPh/mMPuO4a1X0AQJO8cyrVfQAAAAAAAAPh/ECTvHMq1X0ARxeQNMLZfQAAAAAAAAPh/EcXkDTC2X0BKCFbVy7ZfQAAAAAAAAPh/SghW1cu2X0D7ko0HW7dfQAAAAAAAAPh/+5KNB1u3X0AoRSv3ArhfQAAAAAAAAPh/KEUr9wK4X0BhwmhWtrhfQAAAAAAAAPh/YcJoVra4X0CDgI/UVblfQAAAAAAAAPh/g4CP1FW5X0Bj1SDM7blfQAAAAAAAAPh/Y9UgzO25X0Dz59uCpbpfQAAAAAAAAPh/8+fbgqW6X0BAa378JbtfQAAAAAAAAPh/QGt+/CW7X0D3WWWmtLtfQAAAAAAAAPh/91llprS7X0BaD18mirxfQAAAAAAAAPh/Wg9fJoq8X0Bwo7cu67xfQAAAAAAAAPh/cKO3Luu8X0AoCvSJPL1fQAAAAAAAAPh/KAr0iTy9X0CVsgxxrL1fQAAAAAAAAPh/lbIMcay9X0BBfjZy3b1fQAAAAAAAAPh/QX42ct29X0B4KAr0ib5fQAAAAAAAAPh/eCgK9Im+X0Dzp43qdL9fQAAAAAAAAPh/86eN6nS/X0BYjLrW3r9fQAAAAAAAAPh/nbksy3zAX0Cq8dJN4sBfQAAAAAAAAPh/qvHSTeLAX0AUBmUaTcFfQAAAAAAAAPh/FAZlGk3BX0AVAU7v4sFfQAAAAAAAAPh/FQFO7+LBX0CloxzMZsJfQAAAAAAAAPh/paMczGbCX0AbZ9MRwMJfQAAAAAAAAPh/G2fTEcDCX0CUF5mAX8NfQAAAAAAAAPh/lBeZgF/DX0Bx5IHIIsRfQAAAAAAAAPh/ceSByCLEX0AB++jUFcVfQAAAAAAAAPh/Afvo1BXFX0Az3eukvsVfQAAAAAAAAPh/M93rpL7FX0AxthDkoMZfQAAAAAAAAPh/MbYQ5KDGX0D2zf3V48dfQAAAAAAAAPh/9s391ePHX0DZlZaReshfQAAAAAAAAPh/2ZWWkXrIX0DKU1bT9chfQAAAAAAAAPh/ylNW0/XIX0CsyOiAJMlfQAAAAAAAAPh/rMjogCTJX0AH6pRHN8lfQAAAAAAAAPh/B+qURzfJX0BT6Sec3clfQAAAAAAAAPh/U+knnN3JX0DmH32TpspfQAAAAAAAAPh/5h99k6bKX0CoGOdvQstfQAAAAAAAAPh/qBjnb0LLX0CVnBN7aMxfQAAAAAAAAPh/lZwTe2jMX0A7NZcbDM1fQAAAAAAAAPh/OzWXGwzNX0CjkjoBTc5fQAAAAAAAAPh/o5I6AU3OX0BMw/ARMc1fQAAAAAAAAPh/2ZWWkXrIX0BOCYhJuMhfQAAAAAAAAPh/TgmISbjIX0BgyyvXW8hfQAAAAAAAAPh/YMsr11vIX0CRfCWQEshfQAAAAAAAAPh/kXwlkBLIX0BrzWkpM8hfQAAAAAAAAPh/a81pKTPIX0AxthDkoMhfQAAAAAAAAPh/MbYQ5KDIX0D67evAOclfQAAAAAAAAPh/+u3rwDnJX0DQnPUpx8lfQAAAAAAAAPh/",
          "dtype": "f8"
         },
         "mode": "lines",
         "name": "5호선",
         "type": "scattermap"
        },
        {
         "lat": {
          "bdata": "q3mOyHfOQkA6sBwhA89CQAAAAAAAAPh/OrAcIQPPQkCmttRBXs9CQAAAAAAAAPh/prbUQV7PQkAHeT2YFM9CQAAAAAAAAPh/B3k9mBTPQkCUZB2Ors5CQAAAAAAAAPh/lGQdjq7OQkC9/48TJs5CQAAAAAAAAPh/vf+PEybOQkD3BfTCnc1CQAAAAAAAAPh/9wX0wp3NQkBB8s6hDM1CQAAAAAAAAPh/QfLOoQzNQkBgAyLElctCQAAAAAAAAPh/YAMixJXLQkC/R/31CstCQAAAAAAAAPh/v0f99QrLQkBegH106spCQAAAAAAAAPh/XoB9dOrKQkAi4uZUMspCQAAAAAAAAPh/IuLmVDLKQkB5sTBETslCQAAAAAAAAPh/ebEwRE7JQkAgC9EhcMhCQAAAAAAAAPh/IAvRIXDIQkAFpz6QvMdCQAAAAAAAAPh/Bac+kLzHQkDC+j+H+cZCQAAAAAAAAPh/wvo/h/nGQkA0ZDxKJcZCQAAAAAAAAPh/NGQ8SiXGQkAydOygEsVCQAAAAAAAAPh/MnTsoBLFQkBfDVAaasRCQAAAAAAAAPh/Xw1QGmrEQkCRfvs6cMRCQAAAAAAAAPh/kX77OnDEQkAsXGksdMRCQAAAAAAAAPh/LFxpLHTEQkAgzy7f+sRCQAAAAAAAAPh/IM8u3/rEQkAgzy7f+sRCQAAAAAAAAPh/IM8u3/rEQkBujPiphcVCQAAAAAAAAPh/boz4qYXFQkA+WTFcHcZCQAAAAAAAAPh/PlkxXB3GQkDe/8cJE8ZCQAAAAAAAAPh/3v/HCRPGQkB7v9GOG8ZCQAAAAAAAAPh/e7/RjhvGQkB5brT2UcZCQAAAAAAAAPh/eW609lHGQkA8wJMWLsdCQAAAAAAAAPh/PMCTFi7HQkAZ529CIchCQAAAAAAAAPh/GedvQiHIQkBDA7Fs5shCQAAAAAAAAPh/QwOxbObIQkCi1F5E28lCQAAAAAAAAPh/otReRNvJQkCrdeJyvMpCQAAAAAAAAPh/q3XicrzKQkBDjNe8qstCQAAAAAAAAPh/Q4zXvKrLQkBtHLEWn8xCQAAAAAAAAPh/bRyxFp/MQkA42JsYks1CQAAAAAAAAPh/ONibGJLNQkAfHq8tKc5CQAAAAAAAAPh/Hx6vLSnOQkDrAfOQKc9CQAAAAAAAAPh/6wHzkCnPQkD8LKntOc9CQAAAAAAAAPh//Cyp7TnPQkBnQ/6ZQc5CQAAAAAAAAPh/Z0P+mUHOQkBtHLEWn8xCQAAAAAAAAPh/",
          "dtype": "f8"
         },
         "line": {
          "color": "#d08d1a",
          "width": 3
         },
         "lon": {
          "bdata": "3v/HCZPGX0CXdJSD2cVfQAAAAAAAAPh/l3SUg9nFX0AuVWmLa8VfQAAAAAAAAPh/LlVpi2vFX0Cowp/hzcRfQAAAAAAAAPh/qMKf4c3EX0A4L058NcRfQAAAAAAAAPh/OC9OfDXEX0DC3sSQnMNfQAAAAAAAAPh/wt7EkJzDX0Cfyf55GsNfQAAAAAAAAPh/n8n+eRrDX0CADB07qMJfQAAAAAAAAPh/gAwdO6jCX0BwPnWsUsJfQAAAAAAAAPh/cD51rFLCX0Dpmsk328FfQAAAAAAAAPh/6ZrJN9vBX0DgKeRKPcFfQAAAAAAAAPh/4CnkSj3BX0C8I2O1+cBfQAAAAAAAAPh/vCNjtfnAX0Cs0Zg2CcFfQAAAAAAAAPh/rNGYNgnBX0AF+kSeJMFfQAAAAAAAAPh/BfpEniTBX0Cq8dJN4sBfQAAAAAAAAPh/qvHSTeLAX0A9gbBTrMBfQAAAAAAAAPh/PYGwU6zAX0B9kdCWc8BfQAAAAAAAAPh/fZHQlnPAX0B6pSxDHMBfQAAAAAAAAPh/eqUsQxzAX0A8Ftukor9fQAAAAAAAAPh/PBbbpKK/X0AcCMkCJr9fQAAAAAAAAPh/HAjJAia/X0B/5S6vSb5fQAAAAAAAAPh/f+Uur0m+X0AEGQEVjr1fQAAAAAAAAPh/BBkBFY69X0AEGQEVjr1fQAAAAAAAAPh/BBkBFY69X0Bwo7cu67xfQAAAAAAAAPh/cKO3Luu8X0DUZMbbSrxfQAAAAAAAAPh/1GTG20q8X0B2xvfFpbtfQAAAAAAAAPh/dsb3xaW7X0AWw9UBELtfQAAAAAAAAPh/FsPVARC7X0CIrh4KebpfQAAAAAAAAPh/iK4eCnm6X0Azar5KPrpfQAAAAAAAAPh/M2q+Sj66X0CEhChf0LlfQAAAAAAAAPh/hIQoX9C5X0Dt1jIZjrlfQAAAAAAAAPh/7dYyGY65X0CGH5xPnblfQAAAAAAAAPh/hh+cT525X0ATfqmfN7pfQAAAAAAAAPh/E36pnze6X0BX68TleLpfQAAAAAAAAPh/V+vE5Xi6X0AR/kXQmLpfQAAAAAAAAPh/Ef5F0Ji6X0Aipdk8DrtfQAAAAAAAAPh/IqXZPA67X0DtBzwwgLtfQAAAAAAAAPh/7Qc8MIC7X0DeyafHtrtfQAAAAAAAAPh/3smnx7a7X0ChNwLe77pfQAAAAAAAAPh/oTcC3u+6X0CG5jqNtLpfQAAAAAAAAPh/huY6jbS6X0AR/kXQmLpfQAAAAAAAAPh/",
          "dtype": "f8"
         },
         "mode": "lines",
         "name": "6호선",
         "type": "scattermap"
        },
        {
         "lat": {
          "bdata": "1LZhFATBQkAtXcE24sBCQAAAAAAAAPh/LV3BNuLAQkCyo3Go38BCQAAAAAAAAPh/sqNxqN/AQkAEc/T4vcBCQAAAAAAAAPh/BHP0+L3AQkDkFYielMBCQAAAAAAAAPh/5BWInpTAQkDyBS0kYMBCQAAAAAAAAPh/8gUtJGDAQkB89fHQd8BCQAAAAAAAAPh/fPXx0HfAQkBHvGIzrcBCQAAAAAAAAPh/R7xiM63AQkD44SAhysBCQAAAAAAAAPh/+OEgIcrAQkAKRiV1Ar9CQAAAAAAAAPh/CkYldQK/QkAEAwgfSr5CQAAAAAAAAPh/BAMIH0q+QkB0RSkhWL1CQAAAAAAAAPh/dEUpIVi9QkBiodY077xCQAAAAAAAAPh/YqHWNO+8QkCqmbUUkL1CQAAAAAAAAPh/qpm1FJC9QkAlA0AVN75CQAAAAAAAAPh/JQNAFTe+QkDDkK8XHb9CQAAAAAAAAPh/w5CvFx2/QkAcsRafAsBCQAAAAAAAAPh/HLEWnwLAQkCg7vJjAsBCQAAAAAAAAPh/oO7yYwLAQkCmY84z9r9CQAAAAAAAAPh/pmPOM/a/QkBs6GZ/oMBCQAAAAAAAAPh/bOhmf6DAQkCPqFDdXMBCQAAAAAAAAPh/j6hQ3VzAQkANb9bgfb9CQAAAAAAAAPh/DW/W4H2/QkDf4uE9B75CQAAAAAAAAPh/3+LhPQe+QkDRxiQ2Mr5CQAAAAAAAAPh/0cYkNjK+QkBweEFEar5CQAAAAAAAAPh/cHhBRGq+QkC8IY0KnMBCQAAAAAAAAPh/vCGNCpzAQkD6RQn6C8FCQAAAAAAAAPh/+kUJ+gvBQkB2G9R+a8FCQAAAAAAAAPh/dhvUfmvBQkDQ04BB0sFCQAAAAAAAAPh/0NOAQdLBQkDMtz6sN8JCQAAAAAAAAPh/zLc+rDfCQkDx12SNesJCQAAAAAAAAPh/8ddkjXrCQkAHQrKACcRCQAAAAAAAAPh/B0KygAnEQkCgKOPyMsVCQAAAAAAAAPh/oCjj8jLFQkAF4J9SJcZCQAAAAAAAAPh/BeCfUiXGQkADz72HS8dCQAAAAAAAAPh/A8+9h0vHQkDwhjQqcMhCQAAAAAAAAPh/8IY0KnDIQkBpOdBDbclCQAAAAAAAAPh/aTnQQ23JQkCoOA68WspCQAAAAAAAAPh/qDgOvFrKQkBjDoKOVstCQAAAAAAAAPh/Yw6CjlbLQkCEX+rnTcxCQAAAAAAAAPh/hF/q503MQkAlr84xIM1CQAAAAAAAAPh/Ja/OMSDNQkAgXWxaKc5CQAAAAAAAAPh/IF1sWinOQkAHeT2YFM9CQAAAAAAAAPh/B3k9mBTPQkDo3VhQGNBCQAAAAAAAAPh/6N1YUBjQQkBCX3r7c9FCQAAAAAAAAPh/Ql96+3PRQkBeRxyygdJCQAAAAAAAAPh/XkccsoHSQkAWDMGE5NNCQAAAAAAAAPh/FgzBhOTTQkCw5gDBHNVCQAAAAAAAAPh/sOYAwRzVQkD7y+7Jw9ZCQAAAAAAAAPh/+8vuycPWQkC3Yn/ZPdhCQAAAAAAAAPh/t2J/2T3YQkBQUfUrndlCQAAAAAAAAPh/",
          "dtype": "f8"
         },
         "line": {
          "color": "#657931",
          "width": 3
         },
         "lon": {
          "bdata": "dHgI4yeuX0CwOJz51a5fQAAAAAAAAPh/sDic+dWuX0AaxAd2fK9fQAAAAAAAAPh/GsQHdnyvX0Bjt88qM7BfQAAAAAAAAPh/Y7fPKjOwX0B2pWWk3rBfQAAAAAAAAPh/dqVlpN6wX0A6evzeprFfQAAAAAAAAPh/Onr83qaxX0Cymxn9aLJfQAAAAAAAAPh/spsZ/WiyX0AMaz1WA7NfQAAAAAAAAPh/DGs9VgOzX0CuLNFZ5rNfQAAAAAAAAPh/rizRWeazX0BQ/u4dtbRfQAAAAAAAAPh/UP7uHbW0X0C5bkp5rbVfQAAAAAAAAPh/uW5Kea21X0CpiNNJtrZfQAAAAAAAAPh/qYjTSba2X0CtNZTai7dfQAAAAAAAAPh/rTWU2ou3X0AOFk7SfLhfQAAAAAAAAPh/DhZO0ny4X0AomgewyLhfQAAAAAAAAPh/KJoHsMi4X0DI0/IDV7lfQAAAAAAAAPh/yNPyA1e5X0CO6QlLPLpfQAAAAAAAAPh/jukJSzy6X0DOHJJa6LpfQAAAAAAAAPh/zhySWui6X0BZar3faLtfQAAAAAAAAPh/WWq932i7X0B1ApoIG7xfQAAAAAAAAPh/dQKaCBu8X0BJY7SOqrxfQAAAAAAAAPh/SWO0jqq8X0AkDW5rC71fQAAAAAAAAPh/JA1uawu9X0BETfT5KL5fQAAAAAAAAPh/RE30+Si+X0DxDYXP1r5fQAAAAAAAAPh/8Q2Fz9a+X0CnyYy3lb9fQAAAAAAAAPh/p8mMt5W/X0BOXfksT8BfQAAAAAAAAPh/Tl35LE/AX0C7XpoiwMBfQAAAAAAAAPh/u16aIsDAX0A1KQXdXsFfQAAAAAAAAPh/NSkF3V7BX0A4LuOmBsJfQAAAAAAAAPh/OC7jpgbCX0DQX+gRo8JfQAAAAAAAAPh/0F/oEaPCX0B2Tx4WasNfQAAAAAAAAPh/dk8eFmrDX0DLoNrgRMRfQAAAAAAAAPh/y6Da4ETEX0CtgEI9fcRfQAAAAAAAAPh/rYBCPX3EX0CgGFkyx8RfQAAAAAAAAPh/oBhZMsfEX0AB++jUFcVfQAAAAAAAAPh/Afvo1BXFX0CFmbZ/ZcVfQAAAAAAAAPh/hZm2f2XFX0CIK2fvjMVfQAAAAAAAAPh/iCtn74zFX0CXGqGfqcVfQAAAAAAAAPh/lxqhn6nFX0BS0y6mmcVfQAAAAAAAAPh/UtMuppnFX0ARc0nVdsVfQAAAAAAAAPh/EXNJ1XbFX0AC8E+pEsVfQAAAAAAAAPh/AvBPqRLFX0A5RUdy+cRfQAAAAAAAAPh/OUVHcvnEX0Cowp/hzcRfQAAAAAAAAPh/qMKf4c3EX0CXAPxTqsRfQAAAAAAAAPh/lwD8U6rEX0AfnbryWcRfQAAAAAAAAPh/H5268lnEX0A4glSKHcRfQAAAAAAAAPh/OIJUih3EX0BDBvLs8sNfQAAAAAAAAPh/Qwby7PLDX0D/snvysMNfQAAAAAAAAPh//7J78rDDX0Cb/uxHisNfQAAAAAAAAPh/m/7sR4rDX0B23zE89sJfQAAAAAAAAPh/dt8xPPbCX0DLETKQZ8NfQAAAAAAAAPh/",
          "dtype": "f8"
         },
         "mode": "lines",
         "name": "7호선",
         "type": "scattermap"
        },
        {
         "lat": {
          "bdata": "7MA5I0rHQkBR9wFIbcZCQAAAAAAAAPh/UfcBSG3GQkCsN2qF6cRCQAAAAAAAAPh/rDdqhenEQkAtXcE24sNCQAAAAAAAAPh/LV3BNuLDQkD600Z1OsJCQAAAAAAAAPh/+tNGdTrCQkBjmBO0ycFCQAAAAAAAAPh/Y5gTtMnBQkBBvK5fsMBCQAAAAAAAAPh/QbyuX7DAQkBGW5VE9r9CQAAAAAAAAPh/RluVRPa/QkA59tnuC79CQAAAAAAAAPh/OfbZ7gu/QkCOzCN/ML5CQAAAAAAAAPh/jswjfzC+QkChv9AjRr1CQAAAAAAAAPh/ob/QI0a9QkBc4zPZP7xCQAAAAAAAAPh/XOMz2T+8QkDQ1VbsL7tCQAAAAAAAAPh/0NVW7C+7QkAcJET5grpCQAAAAAAAAPh/HCRE+YK6QkDr/xzmy7lCQAAAAAAAAPh/6/8c5su5QkAU7Sqk/LhCQAAAAAAAAPh/FO0qpPy4QkDfG0MAcLhCQAAAAAAAAPh/3xtDAHC4QkBmLQWk/bdCQAAAAAAAAPh/Zi0FpP23QkALmSuDardCQAAAAAAAAPh/",
          "dtype": "f8"
         },
         "line": {
          "color": "#e74e6d",
          "width": 3
         },
         "lon": {
          "bdata": "eLmI78TIX0CXjc75KchfQAAAAAAAAPh/l43O+SnIX0D2zf3V48dfQAAAAAAAAPh/9s391ePHX0ACui9ntsdfQAAAAAAAAPh/ArovZ7bHX0BSms3jMMdfQAAAAAAAAPh/UprN4zDHX0CdIwUpi8ZfQAAAAAAAAPh/nSMFKYvGX0D2sBcK2MZfQAAAAAAAAPh/9rAXCtjGX0CzCpsBLsdfQAAAAAAAAPh/swqbAS7HX0BTwbtvj8dfQAAAAAAAAPh/U8G7b4/HX0CkcD0K18dfQAAAAAAAAPh/pHA9CtfHX0Asg2qDE8hfQAAAAAAAAPh/LINqgxPIX0BGZFjFG8hfQAAAAAAAAPh/RmRYxRvIX0CQvd798chfQAAAAAAAAPh/kL3e/fHIX0ApWrkXmMlfQAAAAAAAAPh/KVq5F5jJX0AqWONsOspfQAAAAAAAAPh/KljjbDrKX0Ct9rAXCspfQAAAAAAAAPh/rfawFwrKX0BJhEawcclfQAAAAAAAAPh/SYRGsHHJX0D59NiWAclfQAAAAAAAAPh/+fTYlgHJX0D+0qI+SchfQAAAAAAAAPh/",
          "dtype": "f8"
         },
         "mode": "lines",
         "name": "8호선",
         "type": "scattermap"
        },
        {
         "lat": {
          "bdata": "HJqy0w/KQkBoklhS7sdCQAAAAAAAAPh/aJJYUu7HQkDU824sKMhCQAAAAAAAAPh/1PNuLCjIQkB8t3njpMhCQAAAAAAAAPh/fLd546TIQkC85H/yd8hCQAAAAAAAAPh/vOR/8nfIQkB6VWe1wMhCQAAAAAAAAPh/elVntcDIQkBmogip28dCQAAAAAAAAPh/ZqIIqdvHQkDNXODyWMdCQAAAAAAAAPh/zVzg8ljHQkDHEAAce8ZCQAAAAAAAAPh/xxAAHHvGQkCmgLT/AcZCQAAAAAAAAPh/poC0/wHGQkCFe2XeqsVCQAAAAAAAAPh/hXtl3qrFQkAGTODW3cRCQAAAAAAAAPh/Bkzg1t3EQkDICn4bYsRCQAAAAAAAAPh/yAp+G2LEQkBS7dPxmMNCQAAAAAAAAPh/Uu3T8ZjDQkBqiZXRyMJCQAAAAAAAAPh/aomV0cjCQkDI2wAiM8JCQAAAAAAAAPh/yNsAIjPCQkDu6eqOxcFCQAAAAAAAAPh/7unqjsXBQkCTxf1HpsFCQAAAAAAAAPh/k8X9R6bBQkDMlxdgH8FCQAAAAAAAAPh/zJcXYB/BQkA3aMIJX8BCQAAAAAAAAPh/N2jCCV/AQkAlsg+yLMBCQAAAAAAAAPh/JbIPsizAQkBtqBjnb8BCQAAAAAAAAPh/bagY52/AQkC8IY0KnMBCQAAAAAAAAPh/vCGNCpzAQkA3OXzSicBCQAAAAAAAAPh/Nzl80onAQkBC0NGqlsBCQAAAAAAAAPh/QtDRqpbAQkDNV8nH7sBCQAAAAAAAAPh/zVfJx+7AQkDYCpqWWMFCQAAAAAAAAPh/2AqalljBQkB/vi1YqsFCQAAAAAAAAPh/f74tWKrBQkCs/Z3t0cFCQAAAAAAAAPh/rP2d7dHBQkApif9ObcFCQAAAAAAAAPh/KYn/Tm3BQkA0hjlBm8BCQAAAAAAAAPh/NIY5QZvAQkDtKw/SU8BCQAAAAAAAAPh/7SsP0lPAQkBBvK5fsMBCQAAAAAAAAPh/QbyuX7DAQkClZaTeU8FCQAAAAAAAAPh/pWWk3lPBQkAFw7mGGcJCQAAAAAAAAPh/BcO5hhnCQkB5Bg39E8JCQAAAAAAAAPh/eQYN/RPCQkDCpPj4hMJCQAAAAAAAAPh/wqT4+ITCQkA0K9uHvMNCQAAAAAAAAPh/",
          "dtype": "f8"
         },
         "line": {
          "color": "#b58600",
          "width": 3
         },
         "lon": {
          "bdata": "Ew1S8BSzX0BnYyXmWbNfQAAAAAAAAPh/Z2Ml5lmzX0CMZfol4rNfQAAAAAAAAPh/jGX6JeKzX0BhONcwQ7RfQAAAAAAAAPh/YTjXMEO0X0Ctoj8087RfQAAAAAAAAPh/raI/NPO0X0DrAl5m2LVfQAAAAAAAAPh/6wJeZti1X0C+9zdor7ZfQAAAAAAAAPh/vvc3aK+2X0BoCTICKrdfQAAAAAAAAPh/aAkyAiq3X0By4NVyZ7dfQAAAAAAAAPh/cuDVcme3X0DRr62f/rdfQAAAAAAAAPh/0a+tn/63X0Ac8PlhhLhfQAAAAAAAAPh/HPD5YYS4X0AjSnuDL7lfQAAAAAAAAPh/I0p7gy+5X0Djb3uCxLlfQAAAAAAAAPh/4297gsS5X0BR9pZyvrpfQAAAAAAAAPh/UfaWcr66X0BAa378JbtfQAAAAAAAAPh/QGt+/CW7X0BOmgZFc7tfQAAAAAAAAPh/TpoGRXO7X0CC/61kR7xfQAAAAAAAAPh/gv+tZEe8X0D59NiWAb1fQAAAAAAAAPh/+fTYlgG9X0AwuVFkrb1fQAAAAAAAAPh/MLlRZK29X0AtVXxWrL5fQAAAAAAAAPh/LVV8Vqy+X0DVko5yML9fQAAAAAAAAPh/1ZKOcjC/X0A0ETY8vb9fQAAAAAAAAPh/NBE2PL2/X0BOXfksT8BfQAAAAAAAAPh/Tl35LE/AX0APfuIA+sBfQAAAAAAAAPh/D37iAPrAX0AEHEKVmsFfQAAAAAAAAPh/BBxClZrBX0BhGLDkKsJfQAAAAAAAAPh/YRiw5CrCX0CcFOY9zsJfQAAAAAAAAPh/nBTmPc7CX0DK3ef4aMNfQAAAAAAAAPh/yt3n+GjDX0DXL9gN28NfQAAAAAAAAPh/1y/YDdvDX0CTedFExcRfQAAAAAAAAPh/k3nRRMXEX0C/DpwzosVfQAAAAAAAAPh/vw6cM6LFX0B/aObJNcZfQAAAAAAAAPh/f2jmyTXGX0D2sBcK2MZfQAAAAAAAAPh/9rAXCtjGX0ChhQSMLsdfQAAAAAAAAPh/oYUEjC7HX0CyuP/IdMdfQAAAAAAAAPh/srj/yHTHX0BgyyvXW8hfQAAAAAAAAPh/YMsr11vIX0BMjdDP1MhfQAAAAAAAAPh/TI3Qz9TIX0DyKJXwhMlfQAAAAAAAAPh/",
          "dtype": "f8"
         },
         "mode": "lines",
         "name": "9호선",
         "type": "scattermap"
        },
        {
         "lat": {
          "bdata": "Pl5Ih4eyQkBRMc7fhLJCQAAAAAAAAPh/UTHO34SyQkBXPzbJj7JCQAAAAAAAAPh/Vz82yY+yQkALf4Y3a7RCQAAAAAAAAPh/C3+GN2u0QkCCOA8nMLNCQAAAAAAAAPh/gjgPJzCzQkAiADj27K9CQAAAAAAAAPh/IgA49uyvQkAQzNHj96xCQAAAAAAAAPh/EMzR4/esQkAR5KCEmahCQAAAAAAAAPh/EeSghJmoQkCQwB9+/qFCQAAAAAAAAPh/kMAffv6hQkAmV7H4TaFCQAAAAAAAAPh/Jlex+E2hQkB0m3CvzKVCQAAAAAAAAPh/dJtwr8ylQkAYsyWrIqRCQAAAAAAAAPh/",
          "dtype": "f8"
         },
         "line": {
          "color": "#004ea7",
          "width": 3
         },
         "lon": {
          "bdata": "l3DoLR7HX0B24JwRpcdfQAAAAAAAAPh/duCcEaXHX0C30muzMchfQAAAAAAAAPh/t9JrszHIX0AiVKnZA81fQAAAAAAAAPh/IlSp2QPNX0BD/wQXK9BfQAAAAAAAAPh/Q/8EFyvQX0BCYOXQItNfQAAAAAAAAPh/QmDl0CLTX0DDDfj8MNZfQAAAAAAAAPh/ww34/DDWX0CnrnyW59lfQAAAAAAAAPh/p658lufZX0AOFeP8TdxfQAAAAAAAAPh/DhXj/E3cX0DJPsiyYN9fQAAAAAAAAPh/yT7IsmDfX0DLgok/iuRfQAAAAAAAAPh/y4KJP4rkX0DmzHaFPuhfQAAAAAAAAPh/",
          "dtype": "f8"
         },
         "mode": "lines",
         "name": "경강선",
         "type": "scattermap"
        },
        {
         "lat": {
          "bdata": "pCOmMUfKQkBsJt9sc8tCQAAAAAAAAPh/bCbfbHPLQkDPaoE9JsxCQAAAAAAAAPh/z2qBPSbMQkCEX+rnTcxCQAAAAAAAAPh/hF/q503MQkCNKO0NvsxCQAAAAAAAAPh/MQqCx7fxQkA8MIDwofBCQAAAAAAAAPh/PDCA8KHwQkAmxccnZO1CQAAAAAAAAPh/JsXHJ2TtQkAmxccnZO1CQAAAAAAAAPh/JsXHJ2TtQkBCP1OvW+hCQAAAAAAAAPh/Qj9Tr1voQkDcuwZ96eVCQAAAAAAAAPh/3LsGfenlQkDSUQ5mE+JCQAAAAAAAAPh/0lEOZhPiQkD2Yb1RK+BCQAAAAAAAAPh/9mG9USvgQkASS8rd59xCQAAAAAAAAPh/EkvK3efcQkBmh/iHLdtCQAAAAAAAAPh/Zof4hy3bQkD+1eO+1dhCQAAAAAAAAPh//tXjvtXYQkBJLZRMTtdCQAAAAAAAAPh/aEC9GTXPQkB56LtbWc5CQAAAAAAAAPh/eei7W1nOQkAEcR5OYM5CQAAAAAAAAPh/BHEeTmDOQkBPkxlvK81CQAAAAAAAAPh/T5MZbyvNQkBVEtkHWcpCQAAAAAAAAPh/VRLZB1nKQkCi1F5E28lCQAAAAAAAAPh/otReRNvJQkABiSZQxMhCQAAAAAAAAPh/AYkmUMTIQkD5vrhUpcdCQAAAAAAAAPh/+b64VKXHQkAAHebLC8dCQAAAAAAAAPh/AYkmUMTIQkCqXiPuVsdCQAAAAAAAAPh/ql4j7lbHQkBTJF8JpMZCQAAAAAAAAPh/UyRfCaTGQkBujPiphcVCQAAAAAAAAPh/boz4qYXFQkAgzy7f+sRCQAAAAAAAAPh/IM8u3/rEQkC+aI8X0sNCQAAAAAAAAPh/vmiPF9LDQkDfK83A28JCQAAAAAAAAPh/3yvNwNvCQkBSmWIOgsJCQAAAAAAAAPh/UpliDoLCQkC5wrtcxMNCQAAAAAAAAPh/ucK7XMTDQkDjaKF3PcVCQAAAAAAAAPh/42ihdz3FQkBzSGqhZMZCQAAAAAAAAPh/c0hqoWTGQkC8z/HR4sdCQAAAAAAAAPh/jSjtDb7MQkA18Q7wpM1CQAAAAAAAAPh/NfEO8KTNQkBZpfRML81CQAAAAAAAAPh/WaX0TC/NQkDmzeFa7c1CQAAAAAAAAPh/5s3hWu3NQkDTpBR0e81CQAAAAAAAAPh/06QUdHvNQkAEdcqjG8tCQAAAAAAAAPh/BHXKoxvLQkBkBb8NMcpCQAAAAAAAAPh/ZAW/DTHKQkCw479AEMZCQAAAAAAAAPh/sOO/QBDGQkBxjc9k/8ZCQAAAAAAAAPh/cY3PZP/GQkBinpW04sVCQAAAAAAAAPh/Yp6VtOLFQkDFyf0ORcNCQAAAAAAAAPh/xcn9DkXDQkDBGmfTEcJCQAAAAAAAAPh/wRpn0xHCQkDvA5DaxMFCQAAAAAAAAPh/7wOQ2sTBQkDK372jxsBCQAAAAAAAAPh/yt+9o8bAQkAIrYcvE79CQAAAAAAAAPh/CK2HLxO/QkCERrBx/btCQAAAAAAAAPh/hEawcf27QkA2k2+2ub1CQAAAAAAAAPh/NpNvtrm9QkCMhSFy+rxCQAAAAAAAAPh/",
          "dtype": "f8"
         },
         "line": {
          "color": "#5f9c82",
          "width": 3
         },
         "lon": {
          "bdata": "E+K3DvvCX0COc5twr8NfQAAAAAAAAPh/jnObcK/DX0DzrKQV38RfQAAAAAAAAPh/86ykFd/EX0ARc0nVdsVfQAAAAAAAAPh/EXNJ1XbFX0BRTUnW4cVfQAAAAAAAAPh/CTNt/8qvX0D5vOKpR7FfQAAAAAAAAPh/+bziqUexX0CALa9cb7JfQAAAAAAAAPh/gC2vXG+yX0CALa9cb7JfQAAAAAAAAPh/gC2vXG+yX0DJdOj0vLJfQAAAAAAAAPh/yXTo9LyyX0AGD9O+ubJfQAAAAAAAAPh/Bg/TvrmyX0C6gm3Ek7FfQAAAAAAAAPh/uoJtxJOxX0Dfxftx+7BfQAAAAAAAAPh/38X7cfuwX0AiqBq9GrFfQAAAAAAAAPh/IqgavRqxX0BCJ4QOurBfQAAAAAAAAPh/QieEDrqwX0Bi3A2itbBfQAAAAAAAAPh/YtwNorWwX0A2PSgoRbFfQAAAAAAAAPh/OIdrtYe0X0C2heelYrVfQAAAAAAAAPh/toXnpWK1X0AKD5pd97VfQAAAAAAAAPh/Cg+aXfe1X0BhURGnk7dfQAAAAAAAAPh/YVERp5O3X0AGvMywUblfQAAAAAAAAPh/BrzMsFG5X0CGH5xPnblfQAAAAAAAAPh/hh+cT525X0BxOslWl7pfQAAAAAAAAPh/cTrJVpe6X0CyE16CU7xfQAAAAAAAAPh/shNeglO8X0AeGhajLr5fQAAAAAAAAPh/cTrJVpe6X0CY4T/dQLtfQAAAAAAAAPh/mOE/3UC7X0B64GOw4rtfQAAAAAAAAPh/euBjsOK7X0Bwo7cu67xfQAAAAAAAAPh/cKO3Luu8X0AEGQEVjr1fQAAAAAAAAPh/BBkBFY69X0DQfw9eu71fQAAAAAAAAPh/0H8PXru9X0Bx7MaoWL5fQAAAAAAAAPh/cezGqFi+X0CzeLEwRL9fQAAAAAAAAPh/s3ixMES/X0DFyJI5lsBfQAAAAAAAAPh/xciSOZbAX0Do6wxmJsFfQAAAAAAAAPh/6OsMZibBX0AIHt/eNcJfQAAAAAAAAPh/CB7f3jXCX0CloxzMZsJfQAAAAAAAAPh/UU1J1uHFX0CzQpHu58ZfQAAAAAAAAPh/s0KR7ufGX0CSjnIwG8lfQAAAAAAAAPh/ko5yMBvJX0C/KaxUUMpfQAAAAAAAAPh/vymsVFDKX0CjzAaZZMxfQAAAAAAAAPh/o8wGmWTMX0DuluSAXc1fQAAAAAAAAPh/7pbkgF3NX0AJbw9CQM5fQAAAAAAAAPh/CW8PQkDOX0ADzlKynM9fQAAAAAAAAPh/A85SspzPX0Dwv5Xs2NNfQAAAAAAAAPh/8L+V7NjTX0B1yw7xD9VfQAAAAAAAAPh/dcsO8Q/VX0B3vwrw3ddfQAAAAAAAAPh/d78K8N3XX0CBBps6j9lfQAAAAAAAAPh/gQabOo/ZX0AYXknyXNxfQAAAAAAAAPh/GF5J8lzcX0C9p3LaU95fQAAAAAAAAPh/vady2lPeX0CefeVBet9fQAAAAAAAAPh/nn3lQXrfX0BMGw5LA+NfQAAAAAAAAPh/TBsOSwPjX0CHakqyDuZfQAAAAAAAAPh/h2pKsg7mX0BypgnbT+hfQAAAAAAAAPh/",
          "dtype": "f8"
         },
         "mode": "lines",
         "name": "경의중앙선",
         "type": "scattermap"
        },
        {
         "lat": {
          "bdata": "jSjtDb7MQkCreY7Id85CQAAAAAAAAPh/q3mOyHfOQkAI51PHKtFCQAAAAAAAAPh/COdTxyrRQkB1PGagMtJCQAAAAAAAAPh/dTxmoDLSQkCLUdfa+9JCQAAAAAAAAPh/i1HX2vvSQkAziuWWVtNCQAAAAAAAAPh/M4rlllbTQkCQh767ldFCQAAAAAAAAPh/kIe+u5XRQkD99nXgnNNCQAAAAAAAAPh//fZ14JzTQkBJZB9kWdRCQAAAAAAAAPh/SWQfZFnUQkBwtU5cjtNCQAAAAAAAAPh/cLVOXI7TQkAuknajj9dCQAAAAAAAAPh/LpJ2o4/XQkDbTIV4JN5CQAAAAAAAAPh/20yFeCTeQkD678Frl+JCQAAAAAAAAPh/+u/Ba5fiQkATtTS3QuhCQAAAAAAAAPh/E7U0t0LoQkBZiuQrgepCQAAAAAAAAPh/WYrkK4HqQkAPml33VupCQAAAAAAAAPh/D5pd91bqQkBIUWfuIedCQAAAAAAAAPh/SFFn7iHnQkCocW9+w+hCQAAAAAAAAPh/qHFvfsPoQkDuQQjIl+5CQAAAAAAAAPh/7kEIyJfuQkDUmBBzSfFCQAAAAAAAAPh/",
          "dtype": "f8"
         },
         "line": {
          "color": "#0ba382",
          "width": 3
         },
         "lon": {
          "bdata": "UU1J1uHFX0De/8cJk8ZfQAAAAAAAAPh/3v/HCZPGX0Asf74tWMdfQAAAAAAAAPh/LH++LVjHX0Bq2VpfJMhfQAAAAAAAAPh/atlaXyTIX0BnDHOCNslfQAAAAAAAAPh/ZwxzgjbJX0BTJcreUstfQAAAAAAAAPh/UyXK3lLLX0AIWKt2Tc1fQAAAAAAAAPh/CFirdk3NX0B2xvfFpc9fQAAAAAAAAPh/dsb3xaXPX0DG/UemQ9JfQAAAAAAAAPh/xv1HpkPSX0A2PpP989NfQAAAAAAAAPh/Nj6T/fPTX0AX8DLDRthfQAAAAAAAAPh/F/Ayw0bYX0BhiQeUTdtfQAAAAAAAAPh/YYkHlE3bX0AtIorJG91fQAAAAAAAAPh/LSKKyRvdX0CscqHyr+BfQAAAAAAAAPh/rHKh8q/gX0AiiV5GseNfQAAAAAAAAPh/IoleRrHjX0BPIy2Vt+VfQAAAAAAAAPh/TyMtlbflX0DpuBrZlehfQAAAAAAAAPh/6bga2ZXoX0Bhjh6/t+1fQAAAAAAAAPh/YY4ev7ftX0DQRq6bUu5fQAAAAAAAAPh/0Eaum1LuX0C13m+04+1fQAAAAAAAAPh/",
          "dtype": "f8"
         },
         "mode": "lines",
         "name": "경춘선",
         "type": "scattermap"
        },
        {
         "lat": {
          "bdata": "YyZRL/i6QkCUEReARrlCQAAAAAAAAPh/lBEXgEa5QkD2QgHbwbpCQAAAAAAAAPh/9kIB28G6QkCnCHB6F79CQAAAAAAAAPh/pwhwehe/QkDvchHficFCQAAAAAAAAPh/73IR34nBQkCcGf1oOMdCQAAAAAAAAPh/nBn9aDjHQkAIHAk02MhCQAAAAAAAAPh/CBwJNNjIQkDYLm04LMlCQAAAAAAAAPh/2C5tOCzJQkBoklhS7sdCQAAAAAAAAPh/aJJYUu7HQkC85H/yd8hCQAAAAAAAAPh/vOR/8nfIQkCi1F5E28lCQAAAAAAAAPh/otReRNvJQkCqXiPuVsdCQAAAAAAAAPh/ql4j7lbHQkBujPiphcVCQAAAAAAAAPh/boz4qYXFQkAAHebLC8dCQAAAAAAAAPh/",
          "dtype": "f8"
         },
         "line": {
          "color": "#038fa0",
          "width": 3
         },
         "lon": {
          "bdata": "LEXylUCcX0BqSx3k9ZxfQAAAAAAAAPh/aksd5PWcX0BF1ESfj55fQAAAAAAAAPh/RdREn4+eX0DhRV9Bmp9fQAAAAAAAAPh/4UVfQZqfX0AFM6ZgjaFfQAAAAAAAAPh/BTOmYI2hX0DB4Jo7+qdfQAAAAAAAAPh/weCaO/qnX0CbkUHuIqtfQAAAAAAAAPh/m5FB7iKrX0DeAgmKH69fQAAAAAAAAPh/3gIJih+vX0BnYyXmWbNfQAAAAAAAAPh/Z2Ml5lmzX0Ctoj8087RfQAAAAAAAAPh/raI/NPO0X0CGH5xPnblfQAAAAAAAAPh/hh+cT525X0CY4T/dQLtfQAAAAAAAAPh/mOE/3UC7X0Bwo7cu67xfQAAAAAAAAPh/cKO3Luu8X0AeGhajLr5fQAAAAAAAAPh/",
          "dtype": "f8"
         },
         "mode": "lines",
         "name": "공항철도1호선",
         "type": "scattermap"
        },
        {
         "lat": {
          "bdata": "vM/x0eLHQkCkI6YxR8pCQAAAAAAAAPh/1gEQd/W8QkDcKR2s/7tCQAAAAAAAAPh/3CkdrP+7QkCjrUoi+7pCQAAAAAAAAPh/o61KIvu6QkASvvc3aLlCQAAAAAAAAPh/Er73N2i5QkBn8PeL2bZCQAAAAAAAAPh/Z/D3i9m2QkCpEfqZerVCQAAAAAAAAPh/qRH6mXq1QkCgUiXK3rRCQAAAAAAAAPh/oFIlyt60QkAL7gc8MLRCQAAAAAAAAPh/C+4HPDC0QkCJ7lnXaLNCQAAAAAAAAPh/ie5Z12izQkDtKM5RR7NCQAAAAAAAAPh/7SjOUUezQkBlqmBUUrNCQAAAAAAAAPh/ZapgVFKzQkAWS5F8JbJCQAAAAAAAAPh/FkuRfCWyQkDP9BJjmbBCQAAAAAAAAPh/z/QSY5mwQkAEPdS2Ya5CQAAAAAAAAPh/BD3UtmGuQkDl7QinBa1CQAAAAAAAAPh/5e0IpwWtQkCwjuOHSqtCQAAAAAAAAPh/sI7jh0qrQkAdjq7S3alCQAAAAAAAAPh/HY6u0t2pQkCA8Qwa+qhCQAAAAAAAAPh/gPEMGvqoQkCy8stgjKhCQAAAAAAAAPh/svLLYIyoQkCXOzPBcKhCQAAAAAAAAPh/lzszwXCoQkApd5/jo6dCQAAAAAAAAPh/KXef46OnQkA+P4wQHqVCQAAAAAAAAPh/Pj+MEB6lQkAepRKe0KFCQAAAAAAAAPh/HqUSntChQkAEVaNXA6BCQAAAAAAAAPh/BFWjVwOgQkBXz0nvG59CQAAAAAAAAPh/V89J7xufQkDdDDfg859CQAAAAAAAAPh/3Qw34POfQkCM8zehEKJCQAAAAAAAAPh/jPM3oRCiQkDNWgpI+6FCQAAAAAAAAPh/zVoKSPuhQkA4u7VMhqFCQAAAAAAAAPh/OLu1TIahQkCEYitoWqBCQAAAAAAAAPh/hGIraFqgQkCaQuc1dp9CQAAAAAAAAPh/mkLnNXafQkAtXFZhM6BCQAAAAAAAAPh/LVxWYTOgQkD8VYDvNqFCQAAAAAAAAPh//FWA7zahQkAE4nX9gqFCQAAAAAAAAPh/BOJ1/YKhQkDZs+cyNaNCQAAAAAAAAPh/2bPnMjWjQkD8qIb9nqRCQAAAAAAAAPh//KiG/Z6kQkBIwr6dRKZCQAAAAAAAAPh/SMK+nUSmQkAa4e1BCKhCQAAAAAAAAPh/GuHtQQioQkCSI52BkalCQAAAAAAAAPh/kiOdgZGpQkCtMlNaf6tCQAAAAAAAAPh/rTJTWn+rQkB4CrlSz6xCQAAAAAAAAPh/eAq5Us+sQkAgRDLk2K5CQAAAAAAAAPh/IEQy5NiuQkD8AKQ2cbBCQAAAAAAAAPh//ACkNnGwQkBuawvPS7FCQAAAAAAAAPh/bmsLz0uxQkBXPzbJj7JCQAAAAAAAAPh/Vz82yY+yQkCKzce1obRCQAAAAAAAAPh/is3HtaG0QkALmSuDardCQAAAAAAAAPh/C5krg2q3QkAvT+eKUrhCQAAAAAAAAPh/L0/nilK4QkA66X3ja7lCQAAAAAAAAPh/Oul942u5QkBc4zPZP7xCQAAAAAAAAPh/XOMz2T+8QkC1a0JaY75CQAAAAAAAAPh/tWtCWmO+QkCXkXpP5b5CQAAAAAAAAPh/l5F6T+W+QkCl+WNam75CQAAAAAAAAPh/pfljWpu+QkBstYe9UL5CQAAAAAAAAPh/bLWHvVC+QkDDerYh2b5CQAAAAAAAAPh/w3q2Idm+QkBXCKuxhL9CQAAAAAAAAPh/VwirsYS/QkCAdS8KlcBCQAAAAAAAAPh/gHUvCpXAQkDYCpqWWMFCQAAAAAAAAPh/2AqalljBQkDMtz6sN8JCQAAAAAAAAPh/zLc+rDfCQkARxHk4gcNCQAAAAAAAAPh/EcR5OIHDQkBaRuo9lcVCQAAAAAAAAPh/WkbqPZXFQkC8z/HR4sdCQAAAAAAAAPh/",
          "dtype": "f8"
         },
         "line": {
          "color": "#a69500",
          "width": 3
         },
         "lon": {
          "bdata": "paMczGbCX0AT4rcO+8JfQAAAAAAAAPh/igPo932nX0C8ICI17adfQAAAAAAAAPh/vCAiNe2nX0CiCKnb2ahfQAAAAAAAAPh/ogip29moX0AO95Fbk6lfQAAAAAAAAPh/DveRW5OpX0BeDrvvGKpfQAAAAAAAAPh/Xg677xiqX0CP/MHAc6tfQAAAAAAAAPh/j/zBwHOrX0BJ93MK8qtfQAAAAAAAAPh/SfdzCvKrX0D76T9rfqxfQAAAAAAAAPh/++k/a36sX0AChA8lWq1fQAAAAAAAAPh/AoQPJVqtX0AWhV0UPa5fQAAAAAAAAPh/FoVdFD2uX0BgOUIG8q5fQAAAAAAAAPh/YDlCBvKuX0Bn8WJhiK9fQAAAAAAAAPh/Z/FiYYivX0DPLt/6sK9fQAAAAAAAAPh/zy7f+rCvX0A7xhUXR69fQAAAAAAAAPh/O8YVF0evX0BqErwhja9fQAAAAAAAAPh/ahK8IY2vX0CfdY2WA7FfQAAAAAAAAPh/n3WNlgOxX0Be9utOd7JfQAAAAAAAAPh/XvbrTneyX0AEOShhprNfQAAAAAAAAPh/BDkoYaazX0CD+StkrrRfQAAAAAAAAPh/g/krZK60X0DAkxYuq7VfQAAAAAAAAPh/wJMWLqu1X0BKRs7CnrZfQAAAAAAAAPh/SkbOwp62X0D35GGh1rZfQAAAAAAAAPh/9+Rhoda2X0DUmBBzSbhfQAAAAAAAAPh/1JgQc0m4X0CjO4idKbpfQAAAAAAAAPh/ozuInSm6X0Ar/BnerL1fQAAAAAAAAPh/K/wZ3qy9X0ALfhtivL5fQAAAAAAAAPh/C34bYry+X0BSSDKr979fQAAAAAAAAPh/Ukgyq/e/X0ARUUzeAMFfQAAAAAAAAPh/EVFM3gDBX0DVsyCU98FfQAAAAAAAAPh/1bMglPfBX0AX1SKimMJfQAAAAAAAAPh/F9UiopjCX0D21Oqrq8NfQAAAAAAAAPh/9tTqq6vDX0BcyCO4kcRfQAAAAAAAAPh/XMgjuJHEX0C4IjFBDcVfQAAAAAAAAPh/uCIxQQ3FX0AiUWhZ98ZfQAAAAAAAAPh/IlFoWffGX0Dh0cYRa8dfQAAAAAAAAPh/4dHGEWvHX0Cop4/AH8dfQAAAAAAAAPh/qKePwB/HX0BVF/Ayw8ZfQAAAAAAAAPh/VRfwMsPGX0C3Y+qu7MZfQAAAAAAAAPh/t2PqruzGX0BAMEeP38ZfQAAAAAAAAPh/QDBHj9/GX0BLyt3n+MZfQAAAAAAAAPh/S8rd5/jGX0BFDaZh+MZfQAAAAAAAAPh/RQ2mYfjGX0Bw626e6sZfQAAAAAAAAPh/cOtunurGX0CnzTgNUcdfQAAAAAAAAPh/p804DVHHX0AGg2vu6MdfQAAAAAAAAPh/BoNr7ujHX0C30muzMchfQAAAAAAAAPh/t9JrszHIX0BM4NbdPMhfQAAAAAAAAPh/TODW3TzIX0D+0qI+SchfQAAAAAAAAPh//tKiPknIX0DpmV5iLMhfQAAAAAAAAPh/6ZleYizIX0AV4LvNG8hfQAAAAAAAAPh/FeC7zRvIX0BGZFjFG8hfQAAAAAAAAPh/RmRYxRvIX0DTHhzZgsZfQAAAAAAAAPh/0x4c2YLGX0D4cMlxp8RfQAAAAAAAAPh/+HDJcafEX0BHPUSjO8RfQAAAAAAAAPh/Rz1EozvEX0AZy/RLxMNfQAAAAAAAAPh/Gcv0S8TDX0BQoGKvisNfQAAAAAAAAPh/UKBir4rDX0DadW9FYsNfQAAAAAAAAPh/2nVvRWLDX0C44vVzHcNfQAAAAAAAAPh/uOL1cx3DX0CcFOY9zsJfQAAAAAAAAPh/nBTmPc7CX0DQX+gRo8JfQAAAAAAAAPh/0F/oEaPCX0ARGOsbmMJfQAAAAAAAAPh/ERjrG5jCX0C/ub963MJfQAAAAAAAAPh/v7m/etzCX0CloxzMZsJfQAAAAAAAAPh/",
          "dtype": "f8"
         },
         "mode": "lines",
         "name": "수인분당선",
         "type": "scattermap"
        },
        {
         "lat": {
          "bdata": "SS2UTE7XQkBXzAhvD9ZCQAAAAAAAAPh/V8wIbw/WQkDT+fAsQdRCQAAAAAAAAPh/0/nwLEHUQkDz59uCpdJCQAAAAAAAAPh/8+fbgqXSQkDSpuoe2dBCQAAAAAAAAPh/0qbqHtnQQkBoQL0ZNc9CQAAAAAAAAPh/aEC9GTXPQkBoklhS7sdCQAAAAAAAAPh/aJJYUu7HQkDsL7snD8NCQAAAAAAAAPh/7C+7Jw/DQkBHvGIzrcBCQAAAAAAAAPh/R7xiM63AQkDuuOF3071CQAAAAAAAAPh/",
          "dtype": "f8"
         },
         "line": {
          "color": "#40a607",
          "width": 3
         },
         "lon": {
          "bdata": "Nj0oKEWxX0Bf7SjOUbJfQAAAAAAAAPh/X+0ozlGyX0CjPPNy2LJfQAAAAAAAAPh/ozzzctiyX0A8S5ARULNfQAAAAAAAAPh/PEuQEVCzX0BaETXR57NfQAAAAAAAAPh/WhE10eezX0A4h2u1h7RfQAAAAAAAAPh/OIdrtYe0X0BnYyXmWbNfQAAAAAAAAPh/Z2Ml5lmzX0A6I0p7g7NfQAAAAAAAAPh/OiNKe4OzX0AMaz1WA7NfQAAAAAAAAPh/DGs9VgOzX0DwT6kS5bJfQAAAAAAAAPh/",
          "dtype": "f8"
         },
         "mode": "lines",
         "name": "서해선",
         "type": "scattermap"
        },
        {
         "lat": {
          "bdata": "yNsAIjPCQkB0wGSZtMFCQAAAAAAAAPh/dMBkmbTBQkAYIeEgxsBCQAAAAAAAAPh/GCHhIMbAQkCg7vJjAsBCQAAAAAAAAPh/oO7yYwLAQkA+tOrObr9CQAAAAAAAAPh/PrTqzm6/QkARn4VOGb9CQAAAAAAAAPh/EZ+FThm/QkAgHtMkwr5CQAAAAAAAAPh/IB7TJMK+QkCRjk45Ar5CQAAAAAAAAPh/kY5OOQK+QkB/qmXGNr1CQAAAAAAAAPh/f6plxja9QkAvE+qOarxCQAAAAAAAAPh/LxPqjmq8QkBTvxyHC7xCQAAAAAAAAPh/",
          "dtype": "f8"
         },
         "line": {
          "color": "#0781fa",
          "width": 3
         },
         "lon": {
          "bdata": "TpoGRXO7X0CYhAt5RLtfQAAAAAAAAPh/mIQLeUS7X0DbDx2nDbtfQAAAAAAAAPh/2w8dpw27X0DOHJJa6LpfQAAAAAAAAPh/zhySWui6X0B/4fDdwbpfQAAAAAAAAPh/f+Hw3cG6X0BS/qSQGrtfQAAAAAAAAPh/Uv6kkBq7X0C5hr5gXLtfQAAAAAAAAPh/uYa+YFy7X0DroMrof7tfQAAAAAAAAPh/66DK6H+7X0BbXrnetrtfQAAAAAAAAPh/W1653ra7X0CJxbmXxbtfQAAAAAAAAPh/icW5l8W7X0BVyEvte7xfQAAAAAAAAPh/",
          "dtype": "f8"
         },
         "mode": "lines",
         "name": "신림선",
         "type": "scattermap"
        },
        {
         "lat": {
          "bdata": "8XkP4anJQkBegH106spCQAAAAAAAAPh/XoB9dOrKQkAMgN5B2ctCQAAAAAAAAPh/DIDeQdnLQkC2EU92M81CQAAAAAAAAPh/thFPdjPNQkAOZhNgWM5CQAAAAAAAAPh/DmYTYFjOQkBE3nL1Y89CQAAAAAAAAPh/RN5y9WPPQkC6ZYf4h89CQAAAAAAAAPh/umWH+IfPQkDIs8u3PtBCQAAAAAAAAPh/yLPLtz7QQkA9KChFK9FCQAAAAAAAAPh/PSgoRSvRQkBEFmniHdJCQAAAAAAAAPh/RBZp4h3SQkDiV6zhItNCQAAAAAAAAPh/4les4SLTQkDymIHK+NNCQAAAAAAAAPh/8piByvjTQkCunL0z2tRCQAAAAAAAAPh/",
          "dtype": "f8"
         },
         "line": {
          "color": "#878787",
          "width": 3
         },
         "lon": {
          "bdata": "W2bH/JLBX0DgKeRKPcFfQAAAAAAAAPh/4CnkSj3BX0DrJEiSDcFfQAAAAAAAAPh/6yRIkg3BX0BseeV628BfQAAAAAAAAPh/bHnletvAX0AyyjMvh8BfQAAAAAAAAPh/MsozL4fAX0AFGJY/38BfQAAAAAAAAPh/BRiWP9/AX0DdXPxtT8FfQAAAAAAAAPh/3Vz8bU/BX0AhdxGmKMFfQAAAAAAAAPh/IXcRpijBX0B/FHXmHsFfQAAAAAAAAPh/fxR15h7BX0CveysSE8FfQAAAAAAAAPh/r3srEhPBX0CfHtsy4MBfQAAAAAAAAPh/nx7bMuDAX0DeOv922cBfQAAAAAAAAPh/3jr/dtnAX0ChndMs0MBfQAAAAAAAAPh/",
          "dtype": "f8"
         },
         "mode": "lines",
         "name": "우이신설선",
         "type": "scattermap"
        },
        {
         "hoverinfo": "skip",
         "lat": {
          "bdata": "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",
          "dtype": "f8"
         },
         "lon": {
          "bdata": "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",
          "dtype": "f8"
         },
         "marker": {
          "color": "black",
          "opacity": 1,
          "size": {
           "bdata": "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",
           "dtype": "f8"
          },
          "sizemode": "area",
          "sizeref": 19.3
         },
         "mode": "markers",
         "showlegend": false,
         "type": "scattermap"
        },
        {
         "hoverinfo": "text",
         "lat": {
          "bdata": "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",
          "dtype": "f8"
         },
         "lon": {
          "bdata": "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",
          "dtype": "f8"
         },
         "marker": {
          "cmid": 0,
          "color": {
           "bdata": "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",
           "dtype": "i4"
          },
          "colorscale": [
           [
            0,
            "rgb(5,48,97)"
           ],
           [
            0.1,
            "rgb(33,102,172)"
           ],
           [
            0.2,
            "rgb(67,147,195)"
           ],
           [
            0.3,
            "rgb(146,197,222)"
           ],
           [
            0.4,
            "rgb(209,229,240)"
           ],
           [
            0.5,
            "rgb(247,247,247)"
           ],
           [
            0.6,
            "rgb(253,219,199)"
           ],
           [
            0.7,
            "rgb(244,165,130)"
           ],
           [
            0.8,
            "rgb(214,96,77)"
           ],
           [
            0.9,
            "rgb(178,24,43)"
           ],
           [
            1,
            "rgb(103,0,31)"
           ]
          ],
          "showscale": false,
          "size": {
           "bdata": "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",
           "dtype": "i4"
          },
          "sizemode": "area",
          "sizeref": 19.3
         },
         "mode": "markers",
         "showlegend": false,
         "text": [
          "4.19민주묘지\nTotal: 346\nNet: -10",
          "가능\nTotal: 761\nNet: -85",
          "가락시장\nTotal: 2560\nNet: 132",
          "가산디지털단지\nTotal: 11188\nNet: 7888",
          "가양\nTotal: 2802\nNet: -87",
          "가오리\nTotal: 505\nNet: -128",
          "가좌\nTotal: 786\nNet: -216",
          "가천대\nTotal: 950\nNet: 46",
          "가평\nTotal: 255\nNet: 13",
          "간석\nTotal: 689\nNet: -139",
          "갈매\nTotal: 314\nNet: -98",
          "강남\nTotal: 12732\nNet: 3469",
          "강남구청\nTotal: 3835\nNet: 1538",
          "강동\nTotal: 2505\nNet: 185",
          "강동구청\nTotal: 1450\nNet: -115",
          "강매\nTotal: 312\nNet: -145",
          "강변\nTotal: 3719\nNet: -538",
          "강일\nTotal: 719\nNet: -174",
          "강촌\nTotal: 50\nNet: 12",
          "개롱\nTotal: 907\nNet: -138",
          "개봉\nTotal: 2828\nNet: -1004",
          "개포동\nTotal: 623\nNet: -53",
          "개화\nTotal: 294\nNet: 62",
          "개화산\nTotal: 745\nNet: -28",
          "거여\nTotal: 1248\nNet: -245",
          "건대입구\nTotal: 7911\nNet: -642",
          "검암\nTotal: 691\nNet: -145",
          "경기광주\nTotal: 943\nNet: -331",
          "경마공원\nTotal: 829\nNet: 690",
          "경복궁\nTotal: 4070\nNet: 1787",
          "경찰병원\nTotal: 1018\nNet: 18",
          "계양\nTotal: 1416\nNet: -582",
          "고덕\nTotal: 1409\nNet: 221",
          "고려대\nTotal: 1158\nNet: 206",
          "고색\nTotal: 812\nNet: 255",
          "고속터미널\nTotal: 13655\nNet: 1706",
          "고잔\nTotal: 1170\nNet: 123",
          "곡산\nTotal: 90\nNet: 19",
          "곤지암\nTotal: 358\nNet: 57",
          "공덕\nTotal: 6289\nNet: 1430",
          "공릉\nTotal: 1559\nNet: -220",
          "공항시장\nTotal: 398\nNet: -81",
          "공항화물청사\nTotal: 386\nNet: 266",
          "과천\nTotal: 773\nNet: -177",
          "관악\nTotal: 852\nNet: -196",
          "관악산\nTotal: 318\nNet: 118",
          "광나루\nTotal: 1449\nNet: -9",
          "광명\nTotal: 534\nNet: 83",
          "광명사거리\nTotal: 2799\nNet: -493",
          "광운대\nTotal: 906\nNet: -171",
          "광화문\nTotal: 5782\nNet: 3190",
          "광흥창\nTotal: 1309\nNet: 195",
          "교대\nTotal: 7265\nNet: 2214",
          "구로\nTotal: 2743\nNet: 549",
          "구로디지털단지\nTotal: 7831\nNet: 898",
          "구룡\nTotal: 432\nNet: -48",
          "구리\nTotal: 1080\nNet: -166",
          "구반포\nTotal: 387\nNet: 279",
          "구산\nTotal: 874\nNet: -164",
          "구성\nTotal: 1019\nNet: -188",
          "구의\nTotal: 3237\nNet: -532",
          "구일\nTotal: 816\nNet: -98",
          "구파발\nTotal: 2675\nNet: -327",
          "국수\nTotal: 72\nNet: -24",
          "국회의사당\nTotal: 3039\nNet: 2080",
          "군자\nTotal: 3600\nNet: -324",
          "군포\nTotal: 1096\nNet: 458",
          "굴봉산\nTotal: 12\nNet: -1",
          "굽은다리\nTotal: 1212\nNet: -172",
          "금곡\nTotal: 192\nNet: -15",
          "금릉\nTotal: 668\nNet: -50",
          "금정\nTotal: 4250\nNet: 136",
          "금천구청\nTotal: 1421\nNet: -402",
          "금촌\nTotal: 843\nNet: -25",
          "금호\nTotal: 1030\nNet: -299",
          "기흥\nTotal: 1334\nNet: -39",
          "길동\nTotal: 1232\nNet: -113",
          "길음\nTotal: 2670\nNet: -623",
          "김유정\nTotal: 61\nNet: 20",
          "김포공항\nTotal: 4245\nNet: 165",
          "까치산\nTotal: 3212\nNet: -1256",
          "낙성대\nTotal: 3293\nNet: -490",
          "남구로\nTotal: 2481\nNet: 439",
          "남부터미널\nTotal: 5844\nNet: 2154",
          "남성\nTotal: 1328\nNet: -415",
          "남영\nTotal: 1411\nNet: 309",
          "남위례\nTotal: 1108\nNet: -7",
          "남춘천\nTotal: 322\nNet: 0",
          "남태령\nTotal: 212\nNet: 110",
          "남한산성입구\nTotal: 1479\nNet: -280",
          "내방\nTotal: 2229\nNet: 644",
          "노들\nTotal: 566\nNet: -145",
          "노량진\nTotal: 4890\nNet: -667",
          "노원\nTotal: 6009\nNet: -675",
          "녹번\nTotal: 1689\nNet: -580",
          "녹사평\nTotal: 811\nNet: 99",
          "녹양\nTotal: 513\nNet: -84",
          "녹천\nTotal: 445\nNet: -91",
          "논현\nTotal: 2881\nNet: 1078",
          "능곡\nTotal: 540\nNet: -112",
          "단대오거리\nTotal: 1542\nNet: -331",
          "달월\nTotal: 11\nNet: 4",
          "답십리\nTotal: 2039\nNet: -95",
          "당곡\nTotal: 684\nNet: -64",
          "당산\nTotal: 5482\nNet: -357",
          "당정\nTotal: 712\nNet: -53",
          "대곡\nTotal: 1079\nNet: 187",
          "대공원\nTotal: 453\nNet: 363",
          "대림\nTotal: 4561\nNet: -620",
          "대모산입구\nTotal: 754\nNet: -96",
          "대방\nTotal: 1965\nNet: 253",
          "대성리\nTotal: 69\nNet: 3",
          "대야미\nTotal: 578\nNet: -71",
          "대청\nTotal: 1462\nNet: 63",
          "대치\nTotal: 2232\nNet: 148",
          "대화\nTotal: 1281\nNet: -94",
          "대흥\nTotal: 1315\nNet: 173",
          "덕계\nTotal: 687\nNet: -219",
          "덕소\nTotal: 640\nNet: -176",
          "덕정\nTotal: 711\nNet: -55",
          "도곡\nTotal: 2021\nNet: 463",
          "도농\nTotal: 1031\nNet: -241",
          "도림천\nTotal: 181\nNet: 18",
          "도봉\nTotal: 763\nNet: -128",
          "도봉산\nTotal: 1715\nNet: -213",
          "도심\nTotal: 240\nNet: -60",
          "도원\nTotal: 357\nNet: 30",
          "도화\nTotal: 460\nNet: -85",
          "독립문\nTotal: 991\nNet: 111",
          "독바위\nTotal: 317\nNet: -121",
          "독산\nTotal: 2659\nNet: 963",
          "돌곶이\nTotal: 1220\nNet: -204",
          "동대문\nTotal: 4735\nNet: 2107",
          "동대입구\nTotal: 1674\nNet: 554",
          "동두천\nTotal: 202\nNet: -15",
          "동두천중앙\nTotal: 343\nNet: -24",
          "동묘앞\nTotal: 2704\nNet: 706",
          "동암\nTotal: 2021\nNet: -618",
          "동인천\nTotal: 1802\nNet: 213",
          "동작\nTotal: 517\nNet: 185",
          "두정\nTotal: 922\nNet: 10",
          "둔촌동\nTotal: 1724\nNet: -141",
          "둔촌오륜\nTotal: 433\nNet: -104",
          "등촌\nTotal: 1601\nNet: -433",
          "디지털미디어시티\nTotal: 4750\nNet: 1021",
          "뚝섬\nTotal: 3965\nNet: 1402",
          "마곡\nTotal: 1966\nNet: 570",
          "마곡나루\nTotal: 4992\nNet: 2441",
          "마두\nTotal: 1104\nNet: 67",
          "마들\nTotal: 1423\nNet: -498",
          "마석\nTotal: 479\nNet: -79",
          "마장\nTotal: 721\nNet: -43",
          "마천\nTotal: 782\nNet: -250",
          "마포\nTotal: 2232\nNet: 261",
          "마포구청\nTotal: 1706\nNet: -56",
          "망우\nTotal: 967\nNet: -214",
          "망원\nTotal: 2461\nNet: -91",
          "망월사\nTotal: 902\nNet: -244",
          "망포\nTotal: 2085\nNet: 261",
          "매교\nTotal: 653\nNet: -178",
          "매봉\nTotal: 1885\nNet: 652",
          "매탄권선\nTotal: 649\nNet: -102",
          "먹골\nTotal: 1286\nNet: -312",
          "면목\nTotal: 1656\nNet: -476",
          "명동\nTotal: 5195\nNet: 969",
          "명일\nTotal: 972\nNet: -197",
          "명학\nTotal: 1142\nNet: 380",
          "모란\nTotal: 3284\nNet: -95",
          "목동\nTotal: 2344\nNet: -585",
          "몽촌토성\nTotal: 1122\nNet: 174",
          "무악재\nTotal: 546\nNet: -159",
          "문래\nTotal: 3554\nNet: 807",
          "문산\nTotal: 710\nNet: -4",
          "문정\nTotal: 3848\nNet: 2034",
          "문화공원동대문역사\nTotal: 5883\nNet: 2138",
          "미금\nTotal: 2123\nNet: 130",
          "미사\nTotal: 2406\nNet: -471",
          "미아\nTotal: 1944\nNet: -256",
          "미아사거리\nTotal: 3463\nNet: -835",
          "반월\nTotal: 488\nNet: -80",
          "반포\nTotal: 951\nNet: 349",
          "발산\nTotal: 3789\nNet: 1226",
          "방배\nTotal: 2313\nNet: 469",
          "방이\nTotal: 1140\nNet: -89",
          "방학\nTotal: 1227\nNet: -188",
          "방화\nTotal: 818\nNet: -151",
          "배방\nTotal: 183\nNet: -32",
          "백마\nTotal: 867\nNet: -76",
          "백석\nTotal: 1449\nNet: 21",
          "백양리\nTotal: 59\nNet: 32",
          "백운\nTotal: 859\nNet: -289",
          "버티고개\nTotal: 305\nNet: -8",
          "범계\nTotal: 3744\nNet: -452",
          "별내\nTotal: 305\nNet: -11",
          "병점\nTotal: 2154\nNet: -185",
          "보라매\nTotal: 1470\nNet: -49",
          "보라매공원\nTotal: 307\nNet: 2",
          "보라매병원\nTotal: 1278\nNet: 687",
          "보문\nTotal: 1217\nNet: -41",
          "보산\nTotal: 213\nNet: 7",
          "보정\nTotal: 285\nNet: -51",
          "복정\nTotal: 1289\nNet: 29",
          "봉명\nTotal: 187\nNet: 30",
          "봉은사\nTotal: 3611\nNet: 1975",
          "봉천\nTotal: 2855\nNet: -760",
          "봉화산\nTotal: 1037\nNet: -248",
          "부개\nTotal: 986\nNet: -360",
          "부발\nTotal: 369\nNet: 45",
          "부천\nTotal: 4257\nNet: -991",
          "부천종합운동장\nTotal: 329\nNet: -48",
          "부평\nTotal: 4335\nNet: -686",
          "북한산보국문\nTotal: 755\nNet: -116",
          "북한산우이\nTotal: 273\nNet: 6",
          "불광\nTotal: 2864\nNet: -403",
          "불암산\nTotal: 1009\nNet: -191",
          "사가정\nTotal: 2061\nNet: -577",
          "사당\nTotal: 10330\nNet: -2300",
          "사릉\nTotal: 237\nNet: -40",
          "사리\nTotal: 494\nNet: -118",
          "사평\nTotal: 580\nNet: -20",
          "산본\nTotal: 2058\nNet: -347",
          "산성\nTotal: 754\nNet: -260",
          "삼각지\nTotal: 2307\nNet: 241",
          "삼거리신대방\nTotal: 1751\nNet: -506",
          "삼동\nTotal: 346\nNet: -138",
          "삼성\nTotal: 9146\nNet: 5271",
          "삼성중앙\nTotal: 1268\nNet: 500",
          "삼송\nTotal: 2385\nNet: -555",
          "삼양\nTotal: 287\nNet: -70",
          "삼양사거리\nTotal: 321\nNet: -54",
          "삼전\nTotal: 1042\nNet: -106",
          "상갈\nTotal: 719\nNet: -81",
          "상계\nTotal: 2289\nNet: -587",
          "상도\nTotal: 1474\nNet: -203",
          "상록수\nTotal: 1832\nNet: -620",
          "상봉\nTotal: 2974\nNet: -474",
          "상수\nTotal: 1512\nNet: -156",
          "상왕십리\nTotal: 1918\nNet: -348",
          "상월곡\nTotal: 709\nNet: -140",
          "상일동\nTotal: 1762\nNet: -489",
          "상천\nTotal: 25\nNet: 0",
          "새절\nTotal: 1475\nNet: -438",
          "샛강\nTotal: 1571\nNet: 655",
          "서강대\nTotal: 312\nNet: 82",
          "서대문\nTotal: 3001\nNet: 1699",
          "서동탄\nTotal: 138\nNet: -37",
          "서빙고\nTotal: 358\nNet: 159",
          "서울대벤처타운\nTotal: 1170\nNet: -253",
          "서울대입구\nTotal: 5795\nNet: -882",
          "서울숲\nTotal: 2053\nNet: 732",
          "서울역\nTotal: 17370\nNet: 3892",
          "서울지방병무청\nTotal: 428\nNet: -103",
          "서원\nTotal: 372\nNet: -127",
          "서정리\nTotal: 1495\nNet: 290",
          "서초\nTotal: 3284\nNet: 1575",
          "서현\nTotal: 3631\nNet: 518",
          "석계\nTotal: 2525\nNet: -858",
          "석수\nTotal: 1088\nNet: -138",
          "석촌\nTotal: 2626\nNet: -289",
          "석촌고분\nTotal: 927\nNet: -123",
          "선릉\nTotal: 11008\nNet: 5945",
          "선바위\nTotal: 1104\nNet: 416",
          "선유도\nTotal: 1289\nNet: 435",
          "선정릉\nTotal: 2635\nNet: 1235",
          "성균관대\nTotal: 1967\nNet: -424",
          "성남\nTotal: 167\nNet: -24",
          "성수\nTotal: 8028\nNet: 2769",
          "성신여대입구\nTotal: 3615\nNet: -267",
          "성환\nTotal: 602\nNet: 158",
          "세류\nTotal: 434\nNet: -9",
          "세마\nTotal: 467\nNet: 2",
          "세종대왕릉\nTotal: 41\nNet: -2",
          "소래포구\nTotal: 575\nNet: -52",
          "소사\nTotal: 869\nNet: -179",
          "소요산\nTotal: 147\nNet: 36",
          "솔밭공원\nTotal: 277\nNet: -82",
          "솔샘\nTotal: 653\nNet: -250",
          "송내\nTotal: 3179\nNet: -398",
          "송도\nTotal: 330\nNet: -57",
          "송정\nTotal: 816\nNet: -62",
          "송탄\nTotal: 604\nNet: -94",
          "송파\nTotal: 1302\nNet: -202",
          "송파나루\nTotal: 886\nNet: -196",
          "수내\nTotal: 2055\nNet: 550",
          "수락산\nTotal: 1512\nNet: -318",
          "수리산\nTotal: 400\nNet: -115",
          "수색\nTotal: 515\nNet: 56",
          "수서\nTotal: 5446\nNet: 33",
          "수원\nTotal: 6673\nNet: -408",
          "수원시청\nTotal: 2065\nNet: 19",
          "수유\nTotal: 4436\nNet: -930",
          "수진\nTotal: 670\nNet: -38",
          "숙대입구\nTotal: 2244\nNet: 228",
          "숭실대입구\nTotal: 1605\nNet: -260",
          "숭의\nTotal: 577\nNet: 22",
          "시청\nTotal: 8293\nNet: 5181",
          "신갈\nTotal: 555\nNet: -150",
          "신금호\nTotal: 852\nNet: -233",
          "신길\nTotal: 1732\nNet: 19",
          "신길온천\nTotal: 288\nNet: 2",
          "신내\nTotal: 354\nNet: -24",
          "신논현\nTotal: 5130\nNet: 338",
          "신답\nTotal: 205\nNet: -73",
          "신당\nTotal: 3344\nNet: -114",
          "신대방\nTotal: 2929\nNet: -887",
          "신도림\nTotal: 7862\nNet: -91",
          "신둔도예촌\nTotal: 216\nNet: -2",
          "신림\nTotal: 6965\nNet: -1902",
          "신목동\nTotal: 517\nNet: -50",
          "신반포\nTotal: 632\nNet: 70",
          "신방화\nTotal: 838\nNet: -230",
          "신사\nTotal: 4445\nNet: 1157",
          "신설동\nTotal: 2874\nNet: 909",
          "신용산\nTotal: 3727\nNet: 764",
          "신원\nTotal: 26\nNet: -4",
          "신이문\nTotal: 921\nNet: -330",
          "신정\nTotal: 1441\nNet: -434",
          "신정네거리\nTotal: 1355\nNet: -561",
          "신창\nTotal: 122\nNet: 50",
          "신촌\nTotal: 181\nNet: 111",
          "신촌_지하\nTotal: 5596\nNet: 479",
          "신포\nTotal: 282\nNet: 33",
          "신풍\nTotal: 1478\nNet: -352",
          "신흥\nTotal: 736\nNet: -142",
          "쌍문\nTotal: 3360\nNet: -1014",
          "쌍용\nTotal: 314\nNet: -57",
          "아산\nTotal: 475\nNet: 5",
          "아신\nTotal: 61\nNet: -14",
          "아차산\nTotal: 1905\nNet: -253",
          "아현\nTotal: 1368\nNet: -153",
          "안국\nTotal: 5089\nNet: 3076",
          "안산\nTotal: 2024\nNet: 539",
          "안암\nTotal: 1825\nNet: 700",
          "안양\nTotal: 2891\nNet: -682",
          "암사\nTotal: 1974\nNet: -622",
          "암사역사공원\nTotal: 742\nNet: -164",
          "압구정\nTotal: 4775\nNet: 1318",
          "압구정로데오\nTotal: 3224\nNet: 866",
          "애오개\nTotal: 858\nNet: -90",
          "야당\nTotal: 1111\nNet: -360",
          "야목\nTotal: 48\nNet: 0",
          "야탑\nTotal: 3782\nNet: 387",
          "약수\nTotal: 2250\nNet: -25",
          "양수\nTotal: 234\nNet: -29",
          "양원\nTotal: 351\nNet: -75",
          "양재\nTotal: 6211\nNet: 2101",
          "양정\nTotal: 71\nNet: 25",
          "양주\nTotal: 899\nNet: -201",
          "양천구청\nTotal: 922\nNet: -302",
          "양천향교\nTotal: 1414\nNet: 234",
          "양평\nTotal: 427\nNet: -91",
          "양평_서울\nTotal: 1066\nNet: 213",
          "어린이대공원\nTotal: 1988\nNet: 535",
          "어천\nTotal: 189\nNet: -8",
          "언주\nTotal: 1932\nNet: 1033",
          "여의나루\nTotal: 2269\nNet: 958",
          "여의도\nTotal: 12318\nNet: 8314",
          "여주\nTotal: 368\nNet: -92",
          "역곡\nTotal: 3134\nNet: -1128",
          "역삼\nTotal: 8910\nNet: 5631",
          "역촌\nTotal: 516\nNet: -165",
          "연수\nTotal: 668\nNet: -141",
          "연신내\nTotal: 4453\nNet: -1003",
          "연천\nTotal: 103\nNet: -7",
          "염창\nTotal: 2228\nNet: -744",
          "영등포\nTotal: 6406\nNet: 979",
          "영등포구청\nTotal: 3883\nNet: 714",
          "영등포시장\nTotal: 1791\nNet: 421",
          "영종\nTotal: 481\nNet: -84",
          "영통\nTotal: 1371\nNet: 133",
          "오금\nTotal: 1386\nNet: 8",
          "오류동\nTotal: 1254\nNet: -358",
          "오리\nTotal: 1435\nNet: 292",
          "오목교\nTotal: 3292\nNet: 2",
          "오목천\nTotal: 418\nNet: 7",
          "오빈\nTotal: 43\nNet: -12",
          "오산\nTotal: 1495\nNet: -49",
          "오산대\nTotal: 475\nNet: -49",
          "오이도\nTotal: 1027\nNet: -36",
          "옥수\nTotal: 1320\nNet: -259",
          "온수\nTotal: 1780\nNet: -451",
          "온양온천\nTotal: 517\nNet: -48",
          "올림픽공원\nTotal: 1774\nNet: -175",
          "왕십리\nTotal: 5527\nNet: -495",
          "외대앞\nTotal: 1180\nNet: 105",
          "용답\nTotal: 355\nNet: -64",
          "용두\nTotal: 331\nNet: -2",
          "용마산\nTotal: 658\nNet: -213",
          "용문\nTotal: 239\nNet: -58",
          "용산\nTotal: 6944\nNet: 1139",
          "우장산\nTotal: 1834\nNet: -402",
          "운길산\nTotal: 81\nNet: 18",
          "운서\nTotal: 1226\nNet: -146",
          "운정\nTotal: 915\nNet: -34",
          "운천\nTotal: 3\nNet: 0",
          "원당\nTotal: 1381\nNet: -373",
          "원덕\nTotal: 45\nNet: -21",
          "원인재\nTotal: 611\nNet: -120",
          "원종\nTotal: 681\nNet: -138",
          "원흥\nTotal: 1376\nNet: -384",
          "월계\nTotal: 695\nNet: -182",
          "월곡\nTotal: 1463\nNet: -209",
          "월곶\nTotal: 361\nNet: -47",
          "월드컵경기장\nTotal: 596\nNet: 51",
          "월롱\nTotal: 334\nNet: 190",
          "을지로3가\nTotal: 6167\nNet: 2557",
          "을지로4가\nTotal: 3617\nNet: 1976",
          "을지로입구\nTotal: 7693\nNet: 3347",
          "응봉\nTotal: 209\nNet: -43",
          "응암\nTotal: 2191\nNet: -794",
          "의왕\nTotal: 1435\nNet: 358",
          "의정부\nTotal: 2536\nNet: 8",
          "이대\nTotal: 2346\nNet: 231",
          "이매\nTotal: 841\nNet: 7",
          "이천\nTotal: 400\nNet: 10",
          "이촌\nTotal: 2315\nNet: 755",
          "이태원\nTotal: 1646\nNet: 86",
          "인더스파크남동\nTotal: 554\nNet: 466",
          "인덕원\nTotal: 3720\nNet: 407",
          "인천\nTotal: 704\nNet: 277",
          "인천공항1터미널\nTotal: 1708\nNet: 207",
          "인천공항2터미널\nTotal: 1113\nNet: 412",
          "인천논현\nTotal: 802\nNet: -82",
          "인하대\nTotal: 870\nNet: -132",
          "일산\nTotal: 1244\nNet: -361",
          "일원\nTotal: 1707\nNet: 664",
          "임진강\nTotal: 8\nNet: 7",
          "자양\nTotal: 1107\nNet: -105",
          "잠실\nTotal: 15418\nNet: 1187",
          "잠실나루\nTotal: 2132\nNet: 353",
          "잠실새내\nTotal: 3317\nNet: -676",
          "잠원\nTotal: 716\nNet: 48",
          "장승배기\nTotal: 1207\nNet: -82",
          "장암\nTotal: 180\nNet: 25",
          "장지\nTotal: 2520\nNet: 415",
          "장한평\nTotal: 2741\nNet: 87",
          "전곡\nTotal: 149\nNet: -33",
          "정릉\nTotal: 579\nNet: -103",
          "정발산\nTotal: 1100\nNet: 166",
          "정부과천청사\nTotal: 2036\nNet: 823",
          "정왕\nTotal: 1233\nNet: 174",
          "정자\nTotal: 3044\nNet: 730",
          "제기동\nTotal: 2235\nNet: 563",
          "제물포\nTotal: 1237\nNet: -44",
          "종각\nTotal: 6584\nNet: 3604",
          "종로3가\nTotal: 8436\nNet: 2764",
          "종로5가\nTotal: 3864\nNet: 1708",
          "종합운동장\nTotal: 1914\nNet: -61",
          "주안\nTotal: 2196\nNet: -92",
          "주엽\nTotal: 1279\nNet: -175",
          "죽전\nTotal: 1825\nNet: -130",
          "중계\nTotal: 1517\nNet: -273",
          "중곡\nTotal: 1381\nNet: -34",
          "중동\nTotal: 1094\nNet: -322",
          "중랑\nTotal: 681\nNet: -230",
          "중앙\nTotal: 2546\nNet: -328",
          "중앙보훈병원\nTotal: 1418\nNet: -47",
          "중화\nTotal: 1315\nNet: -196",
          "증미\nTotal: 1157\nNet: 313",
          "증산\nTotal: 1150\nNet: -370",
          "지축\nTotal: 960\nNet: -205",
          "지평\nTotal: 9\nNet: -3",
          "지행\nTotal: 816\nNet: -205",
          "직산\nTotal: 183\nNet: 51",
          "진위\nTotal: 292\nNet: 162",
          "창동\nTotal: 3757\nNet: -560",
          "창신\nTotal: 340\nNet: -73",
          "천마산\nTotal: 178\nNet: -80",
          "천안\nTotal: 991\nNet: -117",
          "천왕\nTotal: 1409\nNet: -474",
          "천호\nTotal: 5875\nNet: -169",
          "철산\nTotal: 2880\nNet: -733",
          "청구\nTotal: 948\nNet: 82",
          "청담\nTotal: 2810\nNet: 1602",
          "청라국제도시\nTotal: 953\nNet: 16",
          "청량리\nTotal: 5524\nNet: -28",
          "청명\nTotal: 559\nNet: -89",
          "청산\nTotal: 17\nNet: 3",
          "청평\nTotal: 255\nNet: -15",
          "초월\nTotal: 419\nNet: -90",
          "초지\nTotal: 602\nNet: -79",
          "총신대입구\nTotal: 5472\nNet: -546",
          "춘천\nTotal: 165\nNet: 31",
          "충무로\nTotal: 4540\nNet: 1741",
          "충정로\nTotal: 2419\nNet: 939",
          "탄현\nTotal: 913\nNet: -265",
          "탕정\nTotal: 263\nNet: -15",
          "태릉입구\nTotal: 1846\nNet: -165",
          "태평\nTotal: 1646\nNet: -408",
          "퇴계원\nTotal: 387\nNet: -118",
          "파주\nTotal: 158\nNet: 56",
          "판교\nTotal: 903\nNet: 472",
          "팔당\nTotal: 101\nNet: 33",
          "평내호평\nTotal: 811\nNet: -277",
          "평촌\nTotal: 2451\nNet: 509",
          "평택\nTotal: 1838\nNet: -38",
          "평택지제\nTotal: 707\nNet: 210",
          "풍산\nTotal: 788\nNet: -106",
          "하계\nTotal: 2139\nNet: -244",
          "하남검단산\nTotal: 848\nNet: -84",
          "하남시청\nTotal: 1006\nNet: -107",
          "하남풍산\nTotal: 627\nNet: 153",
          "학동\nTotal: 3440\nNet: 2181",
          "학여울\nTotal: 414\nNet: 158",
          "한강진\nTotal: 1878\nNet: 409",
          "한국항공대\nTotal: 242\nNet: 60",
          "한남\nTotal: 616\nNet: 277",
          "한대앞\nTotal: 1196\nNet: -205",
          "한성대입구\nTotal: 1845\nNet: 102",
          "한성백제\nTotal: 399\nNet: 8",
          "한양대\nTotal: 1427\nNet: 789",
          "한티\nTotal: 2922\nNet: 445",
          "합정\nTotal: 7152\nNet: -98",
          "행당\nTotal: 948\nNet: -280",
          "행신\nTotal: 1025\nNet: -216",
          "혜화\nTotal: 5946\nNet: 1421",
          "호구포\nTotal: 703\nNet: 319",
          "홍대입구\nTotal: 15059\nNet: -25",
          "홍제\nTotal: 2223\nNet: -491",
          "화계\nTotal: 387\nNet: -78",
          "화곡\nTotal: 3323\nNet: -929",
          "화랑대\nTotal: 1187\nNet: -261",
          "화서\nTotal: 1585\nNet: -115",
          "화정\nTotal: 2335\nNet: -403",
          "회기\nTotal: 3292\nNet: 168",
          "회룡\nTotal: 1546\nNet: -581",
          "회현\nTotal: 4238\nNet: 2685",
          "효창공원앞\nTotal: 1412\nNet: 138",
          "흑석\nTotal: 1381\nNet: -9"
         ],
         "type": "scattermap"
        }
       ],
       "layout": {
        "map": {
         "center": {
          "lat": 37.513147815343416,
          "lon": 127.0022782284499
         },
         "style": "streets",
         "zoom": 10
        },
        "template": {
         "data": {
          "bar": [
           {
            "error_x": {
             "color": "#2a3f5f"
            },
            "error_y": {
             "color": "#2a3f5f"
            },
            "marker": {
             "line": {
              "color": "#E5ECF6",
              "width": 0.5
             },
             "pattern": {
              "fillmode": "overlay",
              "size": 10,
              "solidity": 0.2
             }
            },
            "type": "bar"
           }
          ],
          "barpolar": [
           {
            "marker": {
             "line": {
              "color": "#E5ECF6",
              "width": 0.5
             },
             "pattern": {
              "fillmode": "overlay",
              "size": 10,
              "solidity": 0.2
             }
            },
            "type": "barpolar"
           }
          ],
          "carpet": [
           {
            "aaxis": {
             "endlinecolor": "#2a3f5f",
             "gridcolor": "white",
             "linecolor": "white",
             "minorgridcolor": "white",
             "startlinecolor": "#2a3f5f"
            },
            "baxis": {
             "endlinecolor": "#2a3f5f",
             "gridcolor": "white",
             "linecolor": "white",
             "minorgridcolor": "white",
             "startlinecolor": "#2a3f5f"
            },
            "type": "carpet"
           }
          ],
          "choropleth": [
           {
            "colorbar": {
             "outlinewidth": 0,
             "ticks": ""
            },
            "type": "choropleth"
           }
          ],
          "contour": [
           {
            "colorbar": {
             "outlinewidth": 0,
             "ticks": ""
            },
            "colorscale": [
             [
              0,
              "#0d0887"
             ],
             [
              0.1111111111111111,
              "#46039f"
             ],
             [
              0.2222222222222222,
              "#7201a8"
             ],
             [
              0.3333333333333333,
              "#9c179e"
             ],
             [
              0.4444444444444444,
              "#bd3786"
             ],
             [
              0.5555555555555556,
              "#d8576b"
             ],
             [
              0.6666666666666666,
              "#ed7953"
             ],
             [
              0.7777777777777778,
              "#fb9f3a"
             ],
             [
              0.8888888888888888,
              "#fdca26"
             ],
             [
              1,
              "#f0f921"
             ]
            ],
            "type": "contour"
           }
          ],
          "contourcarpet": [
           {
            "colorbar": {
             "outlinewidth": 0,
             "ticks": ""
            },
            "type": "contourcarpet"
           }
          ],
          "heatmap": [
           {
            "colorbar": {
             "outlinewidth": 0,
             "ticks": ""
            },
            "colorscale": [
             [
              0,
              "#0d0887"
             ],
             [
              0.1111111111111111,
              "#46039f"
             ],
             [
              0.2222222222222222,
              "#7201a8"
             ],
             [
              0.3333333333333333,
              "#9c179e"
             ],
             [
              0.4444444444444444,
              "#bd3786"
             ],
             [
              0.5555555555555556,
              "#d8576b"
             ],
             [
              0.6666666666666666,
              "#ed7953"
             ],
             [
              0.7777777777777778,
              "#fb9f3a"
             ],
             [
              0.8888888888888888,
              "#fdca26"
             ],
             [
              1,
              "#f0f921"
             ]
            ],
            "type": "heatmap"
           }
          ],
          "histogram": [
           {
            "marker": {
             "pattern": {
              "fillmode": "overlay",
              "size": 10,
              "solidity": 0.2
             }
            },
            "type": "histogram"
           }
          ],
          "histogram2d": [
           {
            "colorbar": {
             "outlinewidth": 0,
             "ticks": ""
            },
            "colorscale": [
             [
              0,
              "#0d0887"
             ],
             [
              0.1111111111111111,
              "#46039f"
             ],
             [
              0.2222222222222222,
              "#7201a8"
             ],
             [
              0.3333333333333333,
              "#9c179e"
             ],
             [
              0.4444444444444444,
              "#bd3786"
             ],
             [
              0.5555555555555556,
              "#d8576b"
             ],
             [
              0.6666666666666666,
              "#ed7953"
             ],
             [
              0.7777777777777778,
              "#fb9f3a"
             ],
             [
              0.8888888888888888,
              "#fdca26"
             ],
             [
              1,
              "#f0f921"
             ]
            ],
            "type": "histogram2d"
           }
          ],
          "histogram2dcontour": [
           {
            "colorbar": {
             "outlinewidth": 0,
             "ticks": ""
            },
            "colorscale": [
             [
              0,
              "#0d0887"
             ],
             [
              0.1111111111111111,
              "#46039f"
             ],
             [
              0.2222222222222222,
              "#7201a8"
             ],
             [
              0.3333333333333333,
              "#9c179e"
             ],
             [
              0.4444444444444444,
              "#bd3786"
             ],
             [
              0.5555555555555556,
              "#d8576b"
             ],
             [
              0.6666666666666666,
              "#ed7953"
             ],
             [
              0.7777777777777778,
              "#fb9f3a"
             ],
             [
              0.8888888888888888,
              "#fdca26"
             ],
             [
              1,
              "#f0f921"
             ]
            ],
            "type": "histogram2dcontour"
           }
          ],
          "mesh3d": [
           {
            "colorbar": {
             "outlinewidth": 0,
             "ticks": ""
            },
            "type": "mesh3d"
           }
          ],
          "parcoords": [
           {
            "line": {
             "colorbar": {
              "outlinewidth": 0,
              "ticks": ""
             }
            },
            "type": "parcoords"
           }
          ],
          "pie": [
           {
            "automargin": true,
            "type": "pie"
           }
          ],
          "scatter": [
           {
            "fillpattern": {
             "fillmode": "overlay",
             "size": 10,
             "solidity": 0.2
            },
            "type": "scatter"
           }
          ],
          "scatter3d": [
           {
            "line": {
             "colorbar": {
              "outlinewidth": 0,
              "ticks": ""
             }
            },
            "marker": {
             "colorbar": {
              "outlinewidth": 0,
              "ticks": ""
             }
            },
            "type": "scatter3d"
           }
          ],
          "scattercarpet": [
           {
            "marker": {
             "colorbar": {
              "outlinewidth": 0,
              "ticks": ""
             }
            },
            "type": "scattercarpet"
           }
          ],
          "scattergeo": [
           {
            "marker": {
             "colorbar": {
              "outlinewidth": 0,
              "ticks": ""
             }
            },
            "type": "scattergeo"
           }
          ],
          "scattergl": [
           {
            "marker": {
             "colorbar": {
              "outlinewidth": 0,
              "ticks": ""
             }
            },
            "type": "scattergl"
           }
          ],
          "scattermap": [
           {
            "marker": {
             "colorbar": {
              "outlinewidth": 0,
              "ticks": ""
             }
            },
            "type": "scattermap"
           }
          ],
          "scattermapbox": [
           {
            "marker": {
             "colorbar": {
              "outlinewidth": 0,
              "ticks": ""
             }
            },
            "type": "scattermapbox"
           }
          ],
          "scatterpolar": [
           {
            "marker": {
             "colorbar": {
              "outlinewidth": 0,
              "ticks": ""
             }
            },
            "type": "scatterpolar"
           }
          ],
          "scatterpolargl": [
           {
            "marker": {
             "colorbar": {
              "outlinewidth": 0,
              "ticks": ""
             }
            },
            "type": "scatterpolargl"
           }
          ],
          "scatterternary": [
           {
            "marker": {
             "colorbar": {
              "outlinewidth": 0,
              "ticks": ""
             }
            },
            "type": "scatterternary"
           }
          ],
          "surface": [
           {
            "colorbar": {
             "outlinewidth": 0,
             "ticks": ""
            },
            "colorscale": [
             [
              0,
              "#0d0887"
             ],
             [
              0.1111111111111111,
              "#46039f"
             ],
             [
              0.2222222222222222,
              "#7201a8"
             ],
             [
              0.3333333333333333,
              "#9c179e"
             ],
             [
              0.4444444444444444,
              "#bd3786"
             ],
             [
              0.5555555555555556,
              "#d8576b"
             ],
             [
              0.6666666666666666,
              "#ed7953"
             ],
             [
              0.7777777777777778,
              "#fb9f3a"
             ],
             [
              0.8888888888888888,
              "#fdca26"
             ],
             [
              1,
              "#f0f921"
             ]
            ],
            "type": "surface"
           }
          ],
          "table": [
           {
            "cells": {
             "fill": {
              "color": "#EBF0F8"
             },
             "line": {
              "color": "white"
             }
            },
            "header": {
             "fill": {
              "color": "#C8D4E3"
             },
             "line": {
              "color": "white"
             }
            },
            "type": "table"
           }
          ]
         },
         "layout": {
          "annotationdefaults": {
           "arrowcolor": "#2a3f5f",
           "arrowhead": 0,
           "arrowwidth": 1
          },
          "autotypenumbers": "strict",
          "coloraxis": {
           "colorbar": {
            "outlinewidth": 0,
            "ticks": ""
           }
          },
          "colorscale": {
           "diverging": [
            [
             0,
             "#8e0152"
            ],
            [
             0.1,
             "#c51b7d"
            ],
            [
             0.2,
             "#de77ae"
            ],
            [
             0.3,
             "#f1b6da"
            ],
            [
             0.4,
             "#fde0ef"
            ],
            [
             0.5,
             "#f7f7f7"
            ],
            [
             0.6,
             "#e6f5d0"
            ],
            [
             0.7,
             "#b8e186"
            ],
            [
             0.8,
             "#7fbc41"
            ],
            [
             0.9,
             "#4d9221"
            ],
            [
             1,
             "#276419"
            ]
           ],
           "sequential": [
            [
             0,
             "#0d0887"
            ],
            [
             0.1111111111111111,
             "#46039f"
            ],
            [
             0.2222222222222222,
             "#7201a8"
            ],
            [
             0.3333333333333333,
             "#9c179e"
            ],
            [
             0.4444444444444444,
             "#bd3786"
            ],
            [
             0.5555555555555556,
             "#d8576b"
            ],
            [
             0.6666666666666666,
             "#ed7953"
            ],
            [
             0.7777777777777778,
             "#fb9f3a"
            ],
            [
             0.8888888888888888,
             "#fdca26"
            ],
            [
             1,
             "#f0f921"
            ]
           ],
           "sequentialminus": [
            [
             0,
             "#0d0887"
            ],
            [
             0.1111111111111111,
             "#46039f"
            ],
            [
             0.2222222222222222,
             "#7201a8"
            ],
            [
             0.3333333333333333,
             "#9c179e"
            ],
            [
             0.4444444444444444,
             "#bd3786"
            ],
            [
             0.5555555555555556,
             "#d8576b"
            ],
            [
             0.6666666666666666,
             "#ed7953"
            ],
            [
             0.7777777777777778,
             "#fb9f3a"
            ],
            [
             0.8888888888888888,
             "#fdca26"
            ],
            [
             1,
             "#f0f921"
            ]
           ]
          },
          "colorway": [
           "#636efa",
           "#EF553B",
           "#00cc96",
           "#ab63fa",
           "#FFA15A",
           "#19d3f3",
           "#FF6692",
           "#B6E880",
           "#FF97FF",
           "#FECB52"
          ],
          "font": {
           "color": "#2a3f5f"
          },
          "geo": {
           "bgcolor": "white",
           "lakecolor": "white",
           "landcolor": "#E5ECF6",
           "showlakes": true,
           "showland": true,
           "subunitcolor": "white"
          },
          "hoverlabel": {
           "align": "left"
          },
          "hovermode": "closest",
          "mapbox": {
           "style": "light"
          },
          "paper_bgcolor": "white",
          "plot_bgcolor": "#E5ECF6",
          "polar": {
           "angularaxis": {
            "gridcolor": "white",
            "linecolor": "white",
            "ticks": ""
           },
           "bgcolor": "#E5ECF6",
           "radialaxis": {
            "gridcolor": "white",
            "linecolor": "white",
            "ticks": ""
           }
          },
          "scene": {
           "xaxis": {
            "backgroundcolor": "#E5ECF6",
            "gridcolor": "white",
            "gridwidth": 2,
            "linecolor": "white",
            "showbackground": true,
            "ticks": "",
            "zerolinecolor": "white"
           },
           "yaxis": {
            "backgroundcolor": "#E5ECF6",
            "gridcolor": "white",
            "gridwidth": 2,
            "linecolor": "white",
            "showbackground": true,
            "ticks": "",
            "zerolinecolor": "white"
           },
           "zaxis": {
            "backgroundcolor": "#E5ECF6",
            "gridcolor": "white",
            "gridwidth": 2,
            "linecolor": "white",
            "showbackground": true,
            "ticks": "",
            "zerolinecolor": "white"
           }
          },
          "shapedefaults": {
           "line": {
            "color": "#2a3f5f"
           }
          },
          "ternary": {
           "aaxis": {
            "gridcolor": "white",
            "linecolor": "white",
            "ticks": ""
           },
           "baxis": {
            "gridcolor": "white",
            "linecolor": "white",
            "ticks": ""
           },
           "bgcolor": "#E5ECF6",
           "caxis": {
            "gridcolor": "white",
            "linecolor": "white",
            "ticks": ""
           }
          },
          "title": {
           "x": 0.05
          },
          "xaxis": {
           "automargin": true,
           "gridcolor": "white",
           "linecolor": "white",
           "ticks": "",
           "title": {
            "standoff": 15
           },
           "zerolinecolor": "white",
           "zerolinewidth": 2
          },
          "yaxis": {
           "automargin": true,
           "gridcolor": "white",
           "linecolor": "white",
           "ticks": "",
           "title": {
            "standoff": 15
           },
           "zerolinecolor": "white",
           "zerolinewidth": 2
          }
         }
        }
       }
      }
     },
     "metadata": {},
     "output_type": "display_data"
    }
   ],
   "source": [
    "# generate sample visaulization, template for future maps (frame in animation)\n",
    "\n",
    "fig_test = go.Figure()\n",
    "\n",
    "for line in meta_line_dict:\n",
    "    line_lons = np.empty(3 * len(meta_line_dict[line]))\n",
    "    line_lats = np.empty(3 * len(meta_line_dict[line]))\n",
    "    for i, key in zip(range(len(meta_line_dict[line])), meta_line_dict[line]):\n",
    "        line_lons[i * 3] = station_df[station_df['bldn_nm'] == key[0]].iloc[0]['lot']\n",
    "        line_lats[i * 3] = station_df[station_df['bldn_nm'] == key[0]].iloc[0]['lat']\n",
    "        line_lons[i * 3 + 1] = station_df[station_df['bldn_nm'] == key[1]].iloc[0]['lot']\n",
    "        line_lats[i * 3 + 1] = station_df[station_df['bldn_nm'] == key[1]].iloc[0]['lat']\n",
    "        line_lons[i * 3 + 2] = None\n",
    "        line_lats[i * 3 + 2] = None\n",
    "    \n",
    "    fig_test.add_trace(go.Scattermap(\n",
    "        lon = line_lons,\n",
    "        lat = line_lats,\n",
    "        name = line,\n",
    "        mode = 'lines',\n",
    "        line = dict(width = 3, color = line_color_dict[line])\n",
    "    ))\n",
    "\n",
    "\n",
    "fig_test.add_trace(go.Scattermap(\n",
    "    lon = test_station_subset['lot'],\n",
    "    lat = test_station_subset['lat'],\n",
    "    mode = 'markers',\n",
    "    showlegend = False,\n",
    "    hoverinfo = 'skip',\n",
    "    marker = dict(\n",
    "        size = test_traffic_subset['17_total'] * 1.1,\n",
    "        sizemode = 'area',\n",
    "        sizeref = test_traffic_subset['17_total'].max() / 30 ** 2,\n",
    "        color = 'black',\n",
    "        opacity = 1.0\n",
    "    )\n",
    "))\n",
    "\n",
    "fig_test.add_trace(go.Scattermap(\n",
    "    lon = test_station_subset['lot'],\n",
    "    lat = test_station_subset['lat'],\n",
    "    showlegend = False,\n",
    "    text = test_df['text'],\n",
    "    hoverinfo = 'text',\n",
    "    mode = 'markers',\n",
    "    marker = dict(\n",
    "        size = test_traffic_subset['17_total'],\n",
    "        sizemode = 'area',\n",
    "        sizeref = test_traffic_subset['17_total'].max() / 30 ** 2,\n",
    "        colorscale = px.colors.diverging.RdBu_r,\n",
    "        color = test_traffic_subset['17_net'],\n",
    "        showscale = False,\n",
    "        cmid = 0) \n",
    "    ))\n",
    "\n",
    "fig_test.update_layout(\n",
    "    map = dict(center = dict(\n",
    "        lat = np.mean(test_station_subset['lat']),\n",
    "        lon = np.mean(test_station_subset['lot'])),\n",
    "        zoom = 10,\n",
    "        style = 'streets'\n",
    "    ))\n",
    "\n",
    "fig_test.show()"
   ]
  }
 ],
 "metadata": {
  "kernelspec": {
   "display_name": "Python 3",
   "language": "python",
   "name": "python3"
  },
  "language_info": {
   "codemirror_mode": {
    "name": "ipython",
    "version": 3
   },
   "file_extension": ".py",
   "mimetype": "text/x-python",
   "name": "python",
   "nbconvert_exporter": "python",
   "pygments_lexer": "ipython3",
   "version": "3.12.3"
  }
 },
 "nbformat": 4,
 "nbformat_minor": 5
}
